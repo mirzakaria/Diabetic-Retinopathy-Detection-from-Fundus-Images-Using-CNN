{
 "cells": [
  {
   "cell_type": "code",
   "execution_count": 1,
   "id": "fddf9703",
   "metadata": {},
   "outputs": [
    {
     "name": "stdout",
     "output_type": "stream",
     "text": [
      "4  CPU cores\n"
     ]
    },
    {
     "name": "stderr",
     "output_type": "stream",
     "text": [
      "Using TensorFlow backend.\n",
      "C:\\Users\\Zakaria\\.conda\\envs\\Tensor\\lib\\site-packages\\tensorflow\\python\\framework\\dtypes.py:516: FutureWarning: Passing (type, 1) or '1type' as a synonym of type is deprecated; in a future version of numpy, it will be understood as (type, (1,)) / '(1,)type'.\n",
      "  _np_qint8 = np.dtype([(\"qint8\", np.int8, 1)])\n",
      "C:\\Users\\Zakaria\\.conda\\envs\\Tensor\\lib\\site-packages\\tensorflow\\python\\framework\\dtypes.py:517: FutureWarning: Passing (type, 1) or '1type' as a synonym of type is deprecated; in a future version of numpy, it will be understood as (type, (1,)) / '(1,)type'.\n",
      "  _np_quint8 = np.dtype([(\"quint8\", np.uint8, 1)])\n",
      "C:\\Users\\Zakaria\\.conda\\envs\\Tensor\\lib\\site-packages\\tensorflow\\python\\framework\\dtypes.py:518: FutureWarning: Passing (type, 1) or '1type' as a synonym of type is deprecated; in a future version of numpy, it will be understood as (type, (1,)) / '(1,)type'.\n",
      "  _np_qint16 = np.dtype([(\"qint16\", np.int16, 1)])\n",
      "C:\\Users\\Zakaria\\.conda\\envs\\Tensor\\lib\\site-packages\\tensorflow\\python\\framework\\dtypes.py:519: FutureWarning: Passing (type, 1) or '1type' as a synonym of type is deprecated; in a future version of numpy, it will be understood as (type, (1,)) / '(1,)type'.\n",
      "  _np_quint16 = np.dtype([(\"quint16\", np.uint16, 1)])\n",
      "C:\\Users\\Zakaria\\.conda\\envs\\Tensor\\lib\\site-packages\\tensorflow\\python\\framework\\dtypes.py:520: FutureWarning: Passing (type, 1) or '1type' as a synonym of type is deprecated; in a future version of numpy, it will be understood as (type, (1,)) / '(1,)type'.\n",
      "  _np_qint32 = np.dtype([(\"qint32\", np.int32, 1)])\n",
      "C:\\Users\\Zakaria\\.conda\\envs\\Tensor\\lib\\site-packages\\tensorflow\\python\\framework\\dtypes.py:525: FutureWarning: Passing (type, 1) or '1type' as a synonym of type is deprecated; in a future version of numpy, it will be understood as (type, (1,)) / '(1,)type'.\n",
      "  np_resource = np.dtype([(\"resource\", np.ubyte, 1)])\n",
      "C:\\Users\\Zakaria\\.conda\\envs\\Tensor\\lib\\site-packages\\tensorboard\\compat\\tensorflow_stub\\dtypes.py:541: FutureWarning: Passing (type, 1) or '1type' as a synonym of type is deprecated; in a future version of numpy, it will be understood as (type, (1,)) / '(1,)type'.\n",
      "  _np_qint8 = np.dtype([(\"qint8\", np.int8, 1)])\n",
      "C:\\Users\\Zakaria\\.conda\\envs\\Tensor\\lib\\site-packages\\tensorboard\\compat\\tensorflow_stub\\dtypes.py:542: FutureWarning: Passing (type, 1) or '1type' as a synonym of type is deprecated; in a future version of numpy, it will be understood as (type, (1,)) / '(1,)type'.\n",
      "  _np_quint8 = np.dtype([(\"quint8\", np.uint8, 1)])\n",
      "C:\\Users\\Zakaria\\.conda\\envs\\Tensor\\lib\\site-packages\\tensorboard\\compat\\tensorflow_stub\\dtypes.py:543: FutureWarning: Passing (type, 1) or '1type' as a synonym of type is deprecated; in a future version of numpy, it will be understood as (type, (1,)) / '(1,)type'.\n",
      "  _np_qint16 = np.dtype([(\"qint16\", np.int16, 1)])\n",
      "C:\\Users\\Zakaria\\.conda\\envs\\Tensor\\lib\\site-packages\\tensorboard\\compat\\tensorflow_stub\\dtypes.py:544: FutureWarning: Passing (type, 1) or '1type' as a synonym of type is deprecated; in a future version of numpy, it will be understood as (type, (1,)) / '(1,)type'.\n",
      "  _np_quint16 = np.dtype([(\"quint16\", np.uint16, 1)])\n",
      "C:\\Users\\Zakaria\\.conda\\envs\\Tensor\\lib\\site-packages\\tensorboard\\compat\\tensorflow_stub\\dtypes.py:545: FutureWarning: Passing (type, 1) or '1type' as a synonym of type is deprecated; in a future version of numpy, it will be understood as (type, (1,)) / '(1,)type'.\n",
      "  _np_qint32 = np.dtype([(\"qint32\", np.int32, 1)])\n",
      "C:\\Users\\Zakaria\\.conda\\envs\\Tensor\\lib\\site-packages\\tensorboard\\compat\\tensorflow_stub\\dtypes.py:550: FutureWarning: Passing (type, 1) or '1type' as a synonym of type is deprecated; in a future version of numpy, it will be understood as (type, (1,)) / '(1,)type'.\n",
      "  np_resource = np.dtype([(\"resource\", np.ubyte, 1)])\n"
     ]
    }
   ],
   "source": [
    "import pandas as pd\n",
    "import numpy as np\n",
    "import os\n",
    "import pickle\n",
    "import multiprocessing\n",
    "from multiprocessing.pool import ThreadPool\n",
    "print(multiprocessing.cpu_count(),\" CPU cores\")\n",
    "\n",
    "import seaborn as sns\n",
    "%matplotlib inline\n",
    "import matplotlib.pyplot as plt\n",
    "plt.rcParams[\"axes.grid\"] = False\n",
    "\n",
    "from sklearn.metrics import confusion_matrix, cohen_kappa_score,accuracy_score\n",
    "\n",
    "from PIL import Image\n",
    "import cv2\n",
    "\n",
    "from keras.layers import Dense, Dropout, Flatten, Input, ZeroPadding2D\n",
    "from keras.layers.normalization import BatchNormalization\n",
    "from keras.preprocessing.image import ImageDataGenerator, array_to_img, img_to_array, load_img\n",
    "from keras.preprocessing import image\n",
    "from keras.utils import plot_model\n",
    "from keras.models import Model\n",
    "from keras.layers.convolutional import Conv2D\n",
    "from keras.layers.pooling import MaxPooling2D\n",
    "from numpy import array \n",
    "from keras import regularizers\n",
    "from keras import optimizers"
   ]
  },
  {
   "cell_type": "code",
   "execution_count": 2,
   "id": "738bd241",
   "metadata": {},
   "outputs": [],
   "source": [
    "def load_data():\n",
    "    file = open('df_train_train', 'rb')\n",
    "    df_train_train = pickle.load(file)\n",
    "    file.close()\n",
    "\n",
    "    file = open('df_train_test', 'rb')\n",
    "    df_train_test = pickle.load(file)\n",
    "    file.close()\n",
    "    \n",
    "    return df_train_train,df_train_test"
   ]
  },
  {
   "cell_type": "code",
   "execution_count": 3,
   "id": "7fc3e5a2",
   "metadata": {},
   "outputs": [
    {
     "name": "stdout",
     "output_type": "stream",
     "text": [
      "(2929, 4) (733, 4) \n",
      "\n"
     ]
    },
    {
     "data": {
      "text/html": [
       "<div>\n",
       "<style scoped>\n",
       "    .dataframe tbody tr th:only-of-type {\n",
       "        vertical-align: middle;\n",
       "    }\n",
       "\n",
       "    .dataframe tbody tr th {\n",
       "        vertical-align: top;\n",
       "    }\n",
       "\n",
       "    .dataframe thead th {\n",
       "        text-align: right;\n",
       "    }\n",
       "</style>\n",
       "<table border=\"1\" class=\"dataframe\">\n",
       "  <thead>\n",
       "    <tr style=\"text-align: right;\">\n",
       "      <th></th>\n",
       "      <th>id_code</th>\n",
       "      <th>diagnosis</th>\n",
       "      <th>file_path</th>\n",
       "      <th>file_name</th>\n",
       "    </tr>\n",
       "  </thead>\n",
       "  <tbody>\n",
       "    <tr>\n",
       "      <th>418</th>\n",
       "      <td>1df0431bfa73</td>\n",
       "      <td>0</td>\n",
       "      <td>./train_images/1df0431bfa73.png</td>\n",
       "      <td>1df0431bfa73.png</td>\n",
       "    </tr>\n",
       "    <tr>\n",
       "      <th>922</th>\n",
       "      <td>42b08dca9b2f</td>\n",
       "      <td>2</td>\n",
       "      <td>./train_images/42b08dca9b2f.png</td>\n",
       "      <td>42b08dca9b2f.png</td>\n",
       "    </tr>\n",
       "    <tr>\n",
       "      <th>3535</th>\n",
       "      <td>f61bf44c677c</td>\n",
       "      <td>2</td>\n",
       "      <td>./train_images/f61bf44c677c.png</td>\n",
       "      <td>f61bf44c677c.png</td>\n",
       "    </tr>\n",
       "    <tr>\n",
       "      <th>2043</th>\n",
       "      <td>8fbb2ca39911</td>\n",
       "      <td>0</td>\n",
       "      <td>./train_images/8fbb2ca39911.png</td>\n",
       "      <td>8fbb2ca39911.png</td>\n",
       "    </tr>\n",
       "    <tr>\n",
       "      <th>1817</th>\n",
       "      <td>807135cbc438</td>\n",
       "      <td>2</td>\n",
       "      <td>./train_images/807135cbc438.png</td>\n",
       "      <td>807135cbc438.png</td>\n",
       "    </tr>\n",
       "    <tr>\n",
       "      <th>2230</th>\n",
       "      <td>9c893e16c055</td>\n",
       "      <td>0</td>\n",
       "      <td>./train_images/9c893e16c055.png</td>\n",
       "      <td>9c893e16c055.png</td>\n",
       "    </tr>\n",
       "  </tbody>\n",
       "</table>\n",
       "</div>"
      ],
      "text/plain": [
       "           id_code diagnosis                        file_path  \\\n",
       "418   1df0431bfa73         0  ./train_images/1df0431bfa73.png   \n",
       "922   42b08dca9b2f         2  ./train_images/42b08dca9b2f.png   \n",
       "3535  f61bf44c677c         2  ./train_images/f61bf44c677c.png   \n",
       "2043  8fbb2ca39911         0  ./train_images/8fbb2ca39911.png   \n",
       "1817  807135cbc438         2  ./train_images/807135cbc438.png   \n",
       "2230  9c893e16c055         0  ./train_images/9c893e16c055.png   \n",
       "\n",
       "             file_name  \n",
       "418   1df0431bfa73.png  \n",
       "922   42b08dca9b2f.png  \n",
       "3535  f61bf44c677c.png  \n",
       "2043  8fbb2ca39911.png  \n",
       "1817  807135cbc438.png  \n",
       "2230  9c893e16c055.png  "
      ]
     },
     "execution_count": 3,
     "metadata": {},
     "output_type": "execute_result"
    }
   ],
   "source": [
    "df_train_train,df_train_test = load_data()\n",
    "print(df_train_train.shape,df_train_test.shape,'\\n')\n",
    "df_train_train.head(6)"
   ]
  },
  {
   "cell_type": "code",
   "execution_count": 4,
   "id": "3e92e536",
   "metadata": {},
   "outputs": [],
   "source": [
    "BATCH_SIZE = 8\n",
    "EPOCHS = 25\n",
    "WARMUP_EPOCHS = 2\n",
    "LEARNING_RATE = 1e-4\n",
    "WARMUP_LEARNING_RATE = 1e-3\n",
    "HEIGHT = 256\n",
    "WIDTH = 256\n",
    "CANAL = 3\n",
    "N_CLASSES = df_train_train['diagnosis'].nunique()\n",
    "ES_PATIENCE = 5\n",
    "RLROP_PATIENCE = 3\n",
    "DECAY_DROP = 0.5"
   ]
  },
  {
   "cell_type": "code",
   "execution_count": 5,
   "id": "c228a0f5",
   "metadata": {},
   "outputs": [],
   "source": [
    "def img_generator(train,test):\n",
    "    train_datagen=ImageDataGenerator(rescale=1./255,horizontal_flip=True)\n",
    "    \n",
    "    train_generator=train_datagen.flow_from_dataframe(dataframe=df_train_train,\n",
    "                                                      directory=\"./train_images_resized_preprocessed/\",\n",
    "                                                      x_col=\"file_name\",\n",
    "                                                      y_col=\"diagnosis\",\n",
    "                                                      batch_size=BATCH_SIZE,\n",
    "                                                      class_mode=\"categorical\",\n",
    "                                                      target_size=(HEIGHT, WIDTH),\n",
    "                                                      subset='training')\n",
    "    \n",
    "    \n",
    "    test_datagen = ImageDataGenerator(rescale=1./255)\n",
    "    test_generator = test_datagen.flow_from_dataframe(dataframe=df_train_test,\n",
    "                                                      directory = \"./test_images_resized_preprocessed/\",\n",
    "                                                      x_col=\"file_name\",\n",
    "                                                      y_col=\"diagnosis\",\n",
    "                                                      target_size=(HEIGHT, WIDTH),\n",
    "                                                      batch_size=1,\n",
    "                                                      class_mode=\"categorical\",\n",
    "                                                      shuffle=False)\n",
    "    \n",
    "    return train_generator,test_generator"
   ]
  },
  {
   "cell_type": "code",
   "execution_count": 6,
   "id": "8cd27bc0",
   "metadata": {},
   "outputs": [
    {
     "name": "stdout",
     "output_type": "stream",
     "text": [
      "Found 2929 validated image filenames belonging to 5 classes.\n",
      "Found 733 validated image filenames belonging to 5 classes.\n"
     ]
    }
   ],
   "source": [
    "train_generator,test_generator = img_generator(df_train_train,df_train_test)"
   ]
  },
  {
   "cell_type": "code",
   "execution_count": 7,
   "id": "3f3ddf1e",
   "metadata": {},
   "outputs": [
    {
     "name": "stdout",
     "output_type": "stream",
     "text": [
      "366 733\n"
     ]
    }
   ],
   "source": [
    "STEP_SIZE_TRAIN = train_generator.n//train_generator.batch_size\n",
    "STEP_SIZE_TEST = test_generator.n//test_generator.batch_size\n",
    "print(STEP_SIZE_TRAIN,STEP_SIZE_TEST)"
   ]
  },
  {
   "cell_type": "code",
   "execution_count": 8,
   "id": "2ba14f83",
   "metadata": {},
   "outputs": [],
   "source": [
    "import tensorflow as tf\n",
    "import keras\n",
    "from keras import applications\n",
    "from keras.models import Sequential\n",
    "from keras.preprocessing.image import ImageDataGenerator\n",
    "from keras import optimizers,Model,Sequential\n",
    "from keras.layers import Input,GlobalAveragePooling2D,Dropout,Dense,Activation\n",
    "from keras.callbacks.callbacks import EarlyStopping,ReduceLROnPlateau"
   ]
  },
  {
   "cell_type": "code",
   "execution_count": 9,
   "id": "a41e8ee3",
   "metadata": {},
   "outputs": [
    {
     "name": "stdout",
     "output_type": "stream",
     "text": [
      "WARNING:tensorflow:From C:\\Users\\Zakaria\\.conda\\envs\\Tensor\\lib\\site-packages\\keras\\backend\\tensorflow_backend.py:4070: The name tf.nn.max_pool is deprecated. Please use tf.nn.max_pool2d instead.\n",
      "\n"
     ]
    }
   ],
   "source": [
    "visible = Input(shape=(256,256,3))\n",
    "conv6 = Conv2D(64, kernel_size=(6,6), activation='relu', strides=(1, 1) ,padding='valid')(visible)\n",
    "pool3 = MaxPooling2D(pool_size=(2, 2))(conv6)\n",
    "#bat1 = BatchNormalization(axis = 1)(pool1)\n",
    "\n",
    "conv2 = Conv2D(64, kernel_size=(4,4), activation='relu', padding='valid', kernel_regularizer=regularizers.l2(0.01))(pool3)\n",
    "pool2 = MaxPooling2D(pool_size=(2, 2))(conv2)\n",
    "\n",
    "conv3 = Conv2D(128, kernel_size=(4,4), activation='relu',strides=(1, 1), padding='valid')(pool2)\n",
    "pool4 = MaxPooling2D(pool_size=(2, 2))(conv3)\n",
    "\n",
    "conv4 = Conv2D(128, kernel_size=(4,4), activation='relu', padding='valid', kernel_regularizer=regularizers.l2(0.01))(pool4)\n",
    "conv5 = Conv2D(128, kernel_size=(2,2), activation='relu', strides=(1, 1), padding='valid')(conv4)\n",
    "\n",
    "flat = Flatten()(conv5)\n",
    "hidden1 = Dense(64, activation='relu')(flat)\n",
    "drop1 = Dropout(0.3)(hidden1)\n",
    "\n",
    "hidden2 = Dense(32, activation='relu')(drop1)\n",
    "drop2 = Dropout(0.2)(hidden2)\n",
    "\n",
    "output = Dense(5, activation='sigmoid')(drop2)\n",
    "model = Model(inputs=visible, outputs=output)"
   ]
  },
  {
   "cell_type": "code",
   "execution_count": 10,
   "id": "f4ca15a1",
   "metadata": {},
   "outputs": [
    {
     "name": "stdout",
     "output_type": "stream",
     "text": [
      "Model: \"model_1\"\n",
      "_________________________________________________________________\n",
      "Layer (type)                 Output Shape              Param #   \n",
      "=================================================================\n",
      "input_1 (InputLayer)         (None, 256, 256, 3)       0         \n",
      "_________________________________________________________________\n",
      "conv2d_1 (Conv2D)            (None, 251, 251, 64)      6976      \n",
      "_________________________________________________________________\n",
      "max_pooling2d_1 (MaxPooling2 (None, 125, 125, 64)      0         \n",
      "_________________________________________________________________\n",
      "conv2d_2 (Conv2D)            (None, 122, 122, 64)      65600     \n",
      "_________________________________________________________________\n",
      "max_pooling2d_2 (MaxPooling2 (None, 61, 61, 64)        0         \n",
      "_________________________________________________________________\n",
      "conv2d_3 (Conv2D)            (None, 58, 58, 128)       131200    \n",
      "_________________________________________________________________\n",
      "max_pooling2d_3 (MaxPooling2 (None, 29, 29, 128)       0         \n",
      "_________________________________________________________________\n",
      "conv2d_4 (Conv2D)            (None, 26, 26, 128)       262272    \n",
      "_________________________________________________________________\n",
      "conv2d_5 (Conv2D)            (None, 25, 25, 128)       65664     \n",
      "_________________________________________________________________\n",
      "flatten_1 (Flatten)          (None, 80000)             0         \n",
      "_________________________________________________________________\n",
      "dense_1 (Dense)              (None, 64)                5120064   \n",
      "_________________________________________________________________\n",
      "dropout_1 (Dropout)          (None, 64)                0         \n",
      "_________________________________________________________________\n",
      "dense_2 (Dense)              (None, 32)                2080      \n",
      "_________________________________________________________________\n",
      "dropout_2 (Dropout)          (None, 32)                0         \n",
      "_________________________________________________________________\n",
      "dense_3 (Dense)              (None, 5)                 165       \n",
      "=================================================================\n",
      "Total params: 5,654,021\n",
      "Trainable params: 5,654,021\n",
      "Non-trainable params: 0\n",
      "_________________________________________________________________\n"
     ]
    }
   ],
   "source": [
    "model.summary()"
   ]
  },
  {
   "cell_type": "code",
   "execution_count": 11,
   "id": "b748acac",
   "metadata": {},
   "outputs": [
    {
     "name": "stdout",
     "output_type": "stream",
     "text": [
      "WARNING:tensorflow:From C:\\Users\\Zakaria\\.conda\\envs\\Tensor\\lib\\site-packages\\tensorflow\\python\\ops\\nn_impl.py:180: add_dispatch_support.<locals>.wrapper (from tensorflow.python.ops.array_ops) is deprecated and will be removed in a future version.\n",
      "Instructions for updating:\n",
      "Use tf.where in 2.0, which has the same broadcast rule as np.where\n"
     ]
    }
   ],
   "source": [
    "optimizer = optimizers.Adam(lr=LEARNING_RATE)\n",
    "model.compile(optimizer=optimizer, loss=\"categorical_crossentropy\",  metrics=['accuracy'])"
   ]
  },
  {
   "cell_type": "code",
   "execution_count": 12,
   "id": "f14da9a2",
   "metadata": {
    "scrolled": true
   },
   "outputs": [
    {
     "name": "stdout",
     "output_type": "stream",
     "text": [
      "WARNING:tensorflow:From C:\\Users\\Zakaria\\.conda\\envs\\Tensor\\lib\\site-packages\\keras\\backend\\tensorflow_backend.py:422: The name tf.global_variables is deprecated. Please use tf.compat.v1.global_variables instead.\n",
      "\n",
      "Epoch 1/25\n",
      "366/366 [==============================] - 1170s 3s/step - loss: 1.2499 - accuracy: 0.7780 - val_loss: 1.0945 - val_accuracy: 0.8000\n",
      "Epoch 2/25\n",
      "366/366 [==============================] - 716s 2s/step - loss: 0.5782 - accuracy: 0.7910 - val_loss: 0.9620 - val_accuracy: 0.8030\n",
      "Epoch 3/25\n",
      "366/366 [==============================] - 788s 2s/step - loss: 0.4957 - accuracy: 0.7977 - val_loss: 0.9049 - val_accuracy: 0.8000\n",
      "Epoch 4/25\n",
      "366/366 [==============================] - 780s 2s/step - loss: 0.4681 - accuracy: 0.7942 - val_loss: 0.8308 - val_accuracy: 0.8000\n",
      "Epoch 5/25\n",
      "366/366 [==============================] - 721s 2s/step - loss: 0.4579 - accuracy: 0.7984 - val_loss: 0.8411 - val_accuracy: 0.8000\n",
      "Epoch 6/25\n",
      "366/366 [==============================] - 748s 2s/step - loss: 0.4492 - accuracy: 0.7998 - val_loss: 0.8548 - val_accuracy: 0.8428\n",
      "Epoch 7/25\n",
      "366/366 [==============================] - 717s 2s/step - loss: 0.4358 - accuracy: 0.8060 - val_loss: 0.7956 - val_accuracy: 0.8480\n",
      "Epoch 8/25\n",
      "366/366 [==============================] - 697s 2s/step - loss: 0.4164 - accuracy: 0.8217 - val_loss: 0.7385 - val_accuracy: 0.8554\n",
      "Epoch 9/25\n",
      "366/366 [==============================] - 679s 2s/step - loss: 0.4050 - accuracy: 0.8331 - val_loss: 0.7608 - val_accuracy: 0.8576\n",
      "Epoch 10/25\n",
      "366/366 [==============================] - 673s 2s/step - loss: 0.3898 - accuracy: 0.8437 - val_loss: 0.7082 - val_accuracy: 0.8622\n",
      "Epoch 11/25\n",
      "366/366 [==============================] - 673s 2s/step - loss: 0.3761 - accuracy: 0.8512 - val_loss: 0.6984 - val_accuracy: 0.8668\n",
      "Epoch 12/25\n",
      "366/366 [==============================] - 673s 2s/step - loss: 0.3678 - accuracy: 0.8542 - val_loss: 0.6710 - val_accuracy: 0.8660\n",
      "Epoch 13/25\n",
      "366/366 [==============================] - 677s 2s/step - loss: 0.3594 - accuracy: 0.8616 - val_loss: 0.6820 - val_accuracy: 0.8739\n",
      "Epoch 14/25\n",
      "366/366 [==============================] - 672s 2s/step - loss: 0.3493 - accuracy: 0.8637 - val_loss: 0.7054 - val_accuracy: 0.8715\n",
      "Epoch 15/25\n",
      "366/366 [==============================] - 671s 2s/step - loss: 0.3490 - accuracy: 0.8611 - val_loss: 0.6929 - val_accuracy: 0.8690\n",
      "Epoch 16/25\n",
      "366/366 [==============================] - 668s 2s/step - loss: 0.3371 - accuracy: 0.8688 - val_loss: 0.6581 - val_accuracy: 0.8712\n",
      "Epoch 17/25\n",
      "366/366 [==============================] - 681s 2s/step - loss: 0.3317 - accuracy: 0.8663 - val_loss: 0.6790 - val_accuracy: 0.8750\n",
      "Epoch 18/25\n",
      "366/366 [==============================] - 684s 2s/step - loss: 0.3372 - accuracy: 0.8685 - val_loss: 0.7157 - val_accuracy: 0.8739\n",
      "Epoch 19/25\n",
      "366/366 [==============================] - 670s 2s/step - loss: 0.3235 - accuracy: 0.8731 - val_loss: 0.6843 - val_accuracy: 0.8707\n",
      "Epoch 20/25\n",
      "366/366 [==============================] - 667s 2s/step - loss: 0.3294 - accuracy: 0.8708 - val_loss: 0.7055 - val_accuracy: 0.8775\n",
      "Epoch 21/25\n",
      "366/366 [==============================] - 666s 2s/step - loss: 0.3236 - accuracy: 0.8707 - val_loss: 0.6928 - val_accuracy: 0.8759\n",
      "Epoch 22/25\n",
      "366/366 [==============================] - 667s 2s/step - loss: 0.3174 - accuracy: 0.8732 - val_loss: 0.6672 - val_accuracy: 0.8734\n",
      "Epoch 23/25\n",
      "366/366 [==============================] - 668s 2s/step - loss: 0.3122 - accuracy: 0.8752 - val_loss: 0.7156 - val_accuracy: 0.8802\n",
      "Epoch 24/25\n",
      "366/366 [==============================] - 666s 2s/step - loss: 0.3120 - accuracy: 0.8749 - val_loss: 0.6692 - val_accuracy: 0.8753\n",
      "Epoch 25/25\n",
      "366/366 [==============================] - 670s 2s/step - loss: 0.3134 - accuracy: 0.8742 - val_loss: 0.7034 - val_accuracy: 0.8805\n"
     ]
    }
   ],
   "source": [
    "m1 = model.fit_generator(generator=train_generator,\n",
    "                                          steps_per_epoch=STEP_SIZE_TRAIN,\n",
    "                                          validation_data=test_generator,\n",
    "                                          validation_steps=STEP_SIZE_TEST,\n",
    "                                          epochs=EPOCHS,\n",
    "                                          verbose=1).history"
   ]
  },
  {
   "cell_type": "code",
   "execution_count": 13,
   "id": "0e3b6a8b",
   "metadata": {},
   "outputs": [
    {
     "data": {
      "image/png": "[encoded data removed]",
      "text/plain": [
       "<Figure size 576x360 with 1 Axes>"
      ]
     },
     "metadata": {
      "needs_background": "light"
     },
     "output_type": "display_data"
    }
   ],
   "source": [
    "plt.figure(figsize=(8,5))\n",
    "\n",
    "plt.plot(m1['accuracy'])\n",
    "plt.plot(m1['val_accuracy'])\n",
    "plt.title('Model Accuracy')\n",
    "plt.ylabel('Accuracy')\n",
    "plt.xlabel('Epoch')\n",
    "plt.legend(['Train', 'Test'], loc='upper left')\n",
    "plt.gca().ticklabel_format(axis='both', style='plain', useOffset=False)\n",
    "plt.show()"
   ]
  },
  {
   "cell_type": "code",
   "execution_count": 15,
   "id": "4aa278d9",
   "metadata": {},
   "outputs": [
    {
     "data": {
      "image/png": "[encoded data removed]",
      "text/plain": [
       "<Figure size 576x360 with 1 Axes>"
      ]
     },
     "metadata": {
      "needs_background": "light"
     },
     "output_type": "display_data"
    }
   ],
   "source": [
    "plt.figure(figsize=(8,5))\n",
    "\n",
    "plt.plot(m1['loss'])\n",
    "plt.plot(m1['val_loss'])\n",
    "plt.title('Model Loss')\n",
    "plt.ylabel('Accuracy')\n",
    "plt.xlabel('Epoch')\n",
    "plt.legend(['Train', 'Test'], loc='upper right')\n",
    "plt.gca().ticklabel_format(axis='both', style='plain', useOffset=False)\n",
    "plt.show()"
   ]
  },
  {
   "cell_type": "code",
   "execution_count": null,
   "id": "62be6bf4",
   "metadata": {},
   "outputs": [],
   "source": []
  }
 ],
 "metadata": {
  "kernelspec": {
   "display_name": "Python 3",
   "language": "python",
   "name": "python3"
  },
  "language_info": {
   "codemirror_mode": {
    "name": "ipython",
    "version": 3
   },
   "file_extension": ".py",
   "mimetype": "text/x-python",
   "name": "python",
   "nbconvert_exporter": "python",
   "pygments_lexer": "ipython3",
   "version": "3.7.10"
  }
 },
 "nbformat": 4,
 "nbformat_minor": 5
}
