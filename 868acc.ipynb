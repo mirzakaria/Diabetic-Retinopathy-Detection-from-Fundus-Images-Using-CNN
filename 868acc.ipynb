{
 "cells": [
  {
   "cell_type": "code",
   "execution_count": 3,
   "id": "939c26f1",
   "metadata": {},
   "outputs": [
    {
     "name": "stdout",
     "output_type": "stream",
     "text": [
      "4  CPU cores\n"
     ]
    }
   ],
   "source": [
    "import pandas as pd\n",
    "import numpy as np\n",
    "import os\n",
    "import pickle\n",
    "import multiprocessing\n",
    "from multiprocessing.pool import ThreadPool\n",
    "print(multiprocessing.cpu_count(),\" CPU cores\")\n",
    "\n",
    "import seaborn as sns\n",
    "%matplotlib inline\n",
    "import matplotlib.pyplot as plt\n",
    "plt.rcParams[\"axes.grid\"] = False\n",
    "\n",
    "from sklearn.metrics import confusion_matrix, cohen_kappa_score,accuracy_score\n",
    "\n",
    "from PIL import Image\n",
    "import cv2\n",
    "\n",
    "from keras.layers import Dense, Dropout, Flatten, Input, ZeroPadding2D\n",
    "from keras.layers.normalization import BatchNormalization\n",
    "from keras.preprocessing.image import ImageDataGenerator, array_to_img, img_to_array, load_img\n",
    "from keras.preprocessing import image\n",
    "from keras.utils import plot_model\n",
    "from keras.models import Model\n",
    "from keras.layers.convolutional import Conv2D\n",
    "from keras.layers.pooling import MaxPooling2D\n",
    "from numpy import array \n",
    "from keras import regularizers\n",
    "from keras import optimizers"
   ]
  },
  {
   "cell_type": "code",
   "execution_count": 4,
   "id": "3e2bb3b0",
   "metadata": {},
   "outputs": [],
   "source": [
    "def load_data():\n",
    "    file = open('df_train_train', 'rb')\n",
    "    df_train_train = pickle.load(file)\n",
    "    file.close()\n",
    "\n",
    "    file = open('df_train_test', 'rb')\n",
    "    df_train_test = pickle.load(file)\n",
    "    file.close()\n",
    "    \n",
    "    return df_train_train,df_train_test"
   ]
  },
  {
   "cell_type": "code",
   "execution_count": 5,
   "id": "747da900",
   "metadata": {},
   "outputs": [
    {
     "name": "stdout",
     "output_type": "stream",
     "text": [
      "(2929, 4) (733, 4) \n",
      "\n"
     ]
    },
    {
     "data": {
      "text/html": [
       "<div>\n",
       "<style scoped>\n",
       "    .dataframe tbody tr th:only-of-type {\n",
       "        vertical-align: middle;\n",
       "    }\n",
       "\n",
       "    .dataframe tbody tr th {\n",
       "        vertical-align: top;\n",
       "    }\n",
       "\n",
       "    .dataframe thead th {\n",
       "        text-align: right;\n",
       "    }\n",
       "</style>\n",
       "<table border=\"1\" class=\"dataframe\">\n",
       "  <thead>\n",
       "    <tr style=\"text-align: right;\">\n",
       "      <th></th>\n",
       "      <th>id_code</th>\n",
       "      <th>diagnosis</th>\n",
       "      <th>file_path</th>\n",
       "      <th>file_name</th>\n",
       "    </tr>\n",
       "  </thead>\n",
       "  <tbody>\n",
       "    <tr>\n",
       "      <th>418</th>\n",
       "      <td>1df0431bfa73</td>\n",
       "      <td>0</td>\n",
       "      <td>./train_images/1df0431bfa73.png</td>\n",
       "      <td>1df0431bfa73.png</td>\n",
       "    </tr>\n",
       "    <tr>\n",
       "      <th>922</th>\n",
       "      <td>42b08dca9b2f</td>\n",
       "      <td>2</td>\n",
       "      <td>./train_images/42b08dca9b2f.png</td>\n",
       "      <td>42b08dca9b2f.png</td>\n",
       "    </tr>\n",
       "    <tr>\n",
       "      <th>3535</th>\n",
       "      <td>f61bf44c677c</td>\n",
       "      <td>2</td>\n",
       "      <td>./train_images/f61bf44c677c.png</td>\n",
       "      <td>f61bf44c677c.png</td>\n",
       "    </tr>\n",
       "    <tr>\n",
       "      <th>2043</th>\n",
       "      <td>8fbb2ca39911</td>\n",
       "      <td>0</td>\n",
       "      <td>./train_images/8fbb2ca39911.png</td>\n",
       "      <td>8fbb2ca39911.png</td>\n",
       "    </tr>\n",
       "    <tr>\n",
       "      <th>1817</th>\n",
       "      <td>807135cbc438</td>\n",
       "      <td>2</td>\n",
       "      <td>./train_images/807135cbc438.png</td>\n",
       "      <td>807135cbc438.png</td>\n",
       "    </tr>\n",
       "    <tr>\n",
       "      <th>2230</th>\n",
       "      <td>9c893e16c055</td>\n",
       "      <td>0</td>\n",
       "      <td>./train_images/9c893e16c055.png</td>\n",
       "      <td>9c893e16c055.png</td>\n",
       "    </tr>\n",
       "  </tbody>\n",
       "</table>\n",
       "</div>"
      ],
      "text/plain": [
       "           id_code diagnosis                        file_path  \\\n",
       "418   1df0431bfa73         0  ./train_images/1df0431bfa73.png   \n",
       "922   42b08dca9b2f         2  ./train_images/42b08dca9b2f.png   \n",
       "3535  f61bf44c677c         2  ./train_images/f61bf44c677c.png   \n",
       "2043  8fbb2ca39911         0  ./train_images/8fbb2ca39911.png   \n",
       "1817  807135cbc438         2  ./train_images/807135cbc438.png   \n",
       "2230  9c893e16c055         0  ./train_images/9c893e16c055.png   \n",
       "\n",
       "             file_name  \n",
       "418   1df0431bfa73.png  \n",
       "922   42b08dca9b2f.png  \n",
       "3535  f61bf44c677c.png  \n",
       "2043  8fbb2ca39911.png  \n",
       "1817  807135cbc438.png  \n",
       "2230  9c893e16c055.png  "
      ]
     },
     "execution_count": 5,
     "metadata": {},
     "output_type": "execute_result"
    }
   ],
   "source": [
    "df_train_train,df_train_test = load_data()\n",
    "print(df_train_train.shape,df_train_test.shape,'\\n')\n",
    "df_train_train.head(6)"
   ]
  },
  {
   "cell_type": "code",
   "execution_count": 6,
   "id": "ef4d494e",
   "metadata": {},
   "outputs": [],
   "source": [
    "# Model parameters\n",
    "BATCH_SIZE = 8\n",
    "EPOCHS = 10\n",
    "WARMUP_EPOCHS = 2\n",
    "LEARNING_RATE = 1e-4\n",
    "WARMUP_LEARNING_RATE = 1e-3\n",
    "HEIGHT = 320\n",
    "WIDTH = 320\n",
    "CANAL = 3\n",
    "N_CLASSES = df_train_train['diagnosis'].nunique()\n",
    "ES_PATIENCE = 5\n",
    "RLROP_PATIENCE = 3\n",
    "DECAY_DROP = 0.5"
   ]
  },
  {
   "cell_type": "code",
   "execution_count": 7,
   "id": "d10d018c",
   "metadata": {},
   "outputs": [],
   "source": [
    "def img_generator(train,test):\n",
    "    train_datagen=ImageDataGenerator(rescale=1./255,horizontal_flip=True)\n",
    "    \n",
    "    train_generator=train_datagen.flow_from_dataframe(dataframe=df_train_train,\n",
    "                                                      directory=\"./train_images_resized_preprocessed/\",\n",
    "                                                      x_col=\"file_name\",\n",
    "                                                      y_col=\"diagnosis\",\n",
    "                                                      batch_size=BATCH_SIZE,\n",
    "                                                      class_mode=\"categorical\",\n",
    "                                                      target_size=(HEIGHT, WIDTH),\n",
    "                                                      subset='training')\n",
    "    \n",
    "    \n",
    "    test_datagen = ImageDataGenerator(rescale=1./255)\n",
    "    test_generator = test_datagen.flow_from_dataframe(dataframe=df_train_test,\n",
    "                                                      directory = \"./test_images_resized_preprocessed/\",\n",
    "                                                      x_col=\"file_name\",\n",
    "                                                      y_col=\"diagnosis\",\n",
    "                                                      target_size=(HEIGHT, WIDTH),\n",
    "                                                      batch_size=1,\n",
    "                                                      class_mode=\"categorical\",\n",
    "                                                      shuffle=False)\n",
    "    \n",
    "    return train_generator,test_generator"
   ]
  },
  {
   "cell_type": "code",
   "execution_count": 8,
   "id": "ba1e0c8f",
   "metadata": {},
   "outputs": [
    {
     "name": "stdout",
     "output_type": "stream",
     "text": [
      "Found 2929 validated image filenames belonging to 5 classes.\n",
      "Found 733 validated image filenames belonging to 5 classes.\n"
     ]
    }
   ],
   "source": [
    "train_generator,test_generator = img_generator(df_train_train,df_train_test)"
   ]
  },
  {
   "cell_type": "code",
   "execution_count": 10,
   "id": "61df27d1",
   "metadata": {},
   "outputs": [
    {
     "name": "stdout",
     "output_type": "stream",
     "text": [
      "366 733\n"
     ]
    }
   ],
   "source": [
    "STEP_SIZE_TRAIN = train_generator.n//train_generator.batch_size\n",
    "STEP_SIZE_TEST = test_generator.n//test_generator.batch_size\n",
    "print(STEP_SIZE_TRAIN,STEP_SIZE_TEST)"
   ]
  },
  {
   "cell_type": "code",
   "execution_count": 11,
   "id": "212d173b",
   "metadata": {},
   "outputs": [],
   "source": [
    "import keras\n",
    "from keras import applications\n",
    "from keras.preprocessing.image import ImageDataGenerator\n",
    "from keras import optimizers,Model,Sequential\n",
    "from keras.layers import Input,GlobalAveragePooling2D,Dropout,Dense,Activation\n",
    "from keras.callbacks.callbacks import EarlyStopping,ReduceLROnPlateau"
   ]
  },
  {
   "cell_type": "code",
   "execution_count": 12,
   "id": "887920a5",
   "metadata": {},
   "outputs": [
    {
     "name": "stdout",
     "output_type": "stream",
     "text": [
      "WARNING:tensorflow:From C:\\Users\\Zakaria\\.conda\\envs\\Tensor\\lib\\site-packages\\keras\\backend\\tensorflow_backend.py:4070: The name tf.nn.max_pool is deprecated. Please use tf.nn.max_pool2d instead.\n",
      "\n"
     ]
    }
   ],
   "source": [
    "#CNN\n",
    "\n",
    "visible = Input(shape=(320,320,3))\n",
    "conv1 = Conv2D(16, kernel_size=(3,3), activation='relu', strides=(1, 1))(visible)\n",
    "conv2 = Conv2D(16, kernel_size=(3,3), activation='relu', strides=(1, 1))(conv1)\n",
    "conv3 = ZeroPadding2D(padding=(1, 1))(conv2)\n",
    "pool1 = MaxPooling2D(pool_size=(2, 2))(conv2)\n",
    "#bat1 = BatchNormalization(axis = 1)(pool1)\n",
    "\n",
    "conv4 = Conv2D(32, kernel_size=(3,3), activation='relu', padding='valid', kernel_regularizer=regularizers.l2(0.01))(pool1)\n",
    "conv5 = Conv2D(32, kernel_size=(3,3), activation='relu', padding='valid', kernel_regularizer=regularizers.l2(0.01))(conv4)\n",
    "pool2 = MaxPooling2D(pool_size=(2, 2))(conv5)\n",
    "\n",
    "conv6 = Conv2D(64, kernel_size=(3,3), activation='relu',strides=(1, 1), padding='valid')(pool2)\n",
    "conv7 = Conv2D(64, kernel_size=(3,3), activation='relu',strides=(1, 1), padding='valid')(conv6)\n",
    "conv7 = ZeroPadding2D(padding=(1, 1))(conv7)\n",
    "pool3 = MaxPooling2D(pool_size=(2, 2))(conv7)\n",
    "\n",
    "conv8 = Conv2D(128, kernel_size=(3,3), activation='relu', padding='valid', kernel_regularizer=regularizers.l2(0.01))(pool3)\n",
    "conv9 = Conv2D(128, kernel_size=(2,2), activation='relu', strides=(1, 1), padding='valid')(conv8)\n",
    "pool4 = MaxPooling2D(pool_size=(2, 2))(conv9)\n",
    "\n",
    "flat = Flatten()(pool4)\n",
    "hidden1 = Dense(64, activation='relu')(flat)\n",
    "drop1 = Dropout(0.3)(hidden1)\n",
    "\n",
    "hidden2 = Dense(32, activation='relu')(drop1)\n",
    "drop2 = Dropout(0.2)(hidden2)\n",
    "\n",
    "output = Dense(5, activation='softmax')(drop2)\n",
    "#output = Dense(1, activation='sigmoid')(flat)\n",
    "model = Model(inputs=visible, outputs=output)"
   ]
  },
  {
   "cell_type": "code",
   "execution_count": 13,
   "id": "d92019af",
   "metadata": {},
   "outputs": [
    {
     "name": "stdout",
     "output_type": "stream",
     "text": [
      "Model: \"model_1\"\n",
      "_________________________________________________________________\n",
      "Layer (type)                 Output Shape              Param #   \n",
      "=================================================================\n",
      "input_1 (InputLayer)         (None, 320, 320, 3)       0         \n",
      "_________________________________________________________________\n",
      "conv2d_1 (Conv2D)            (None, 318, 318, 16)      448       \n",
      "_________________________________________________________________\n",
      "conv2d_2 (Conv2D)            (None, 316, 316, 16)      2320      \n",
      "_________________________________________________________________\n",
      "max_pooling2d_1 (MaxPooling2 (None, 158, 158, 16)      0         \n",
      "_________________________________________________________________\n",
      "conv2d_3 (Conv2D)            (None, 156, 156, 32)      4640      \n",
      "_________________________________________________________________\n",
      "conv2d_4 (Conv2D)            (None, 154, 154, 32)      9248      \n",
      "_________________________________________________________________\n",
      "max_pooling2d_2 (MaxPooling2 (None, 77, 77, 32)        0         \n",
      "_________________________________________________________________\n",
      "conv2d_5 (Conv2D)            (None, 75, 75, 64)        18496     \n",
      "_________________________________________________________________\n",
      "conv2d_6 (Conv2D)            (None, 73, 73, 64)        36928     \n",
      "_________________________________________________________________\n",
      "zero_padding2d_2 (ZeroPaddin (None, 75, 75, 64)        0         \n",
      "_________________________________________________________________\n",
      "max_pooling2d_3 (MaxPooling2 (None, 37, 37, 64)        0         \n",
      "_________________________________________________________________\n",
      "conv2d_7 (Conv2D)            (None, 35, 35, 128)       73856     \n",
      "_________________________________________________________________\n",
      "conv2d_8 (Conv2D)            (None, 34, 34, 128)       65664     \n",
      "_________________________________________________________________\n",
      "max_pooling2d_4 (MaxPooling2 (None, 17, 17, 128)       0         \n",
      "_________________________________________________________________\n",
      "flatten_1 (Flatten)          (None, 36992)             0         \n",
      "_________________________________________________________________\n",
      "dense_1 (Dense)              (None, 64)                2367552   \n",
      "_________________________________________________________________\n",
      "dropout_1 (Dropout)          (None, 64)                0         \n",
      "_________________________________________________________________\n",
      "dense_2 (Dense)              (None, 32)                2080      \n",
      "_________________________________________________________________\n",
      "dropout_2 (Dropout)          (None, 32)                0         \n",
      "_________________________________________________________________\n",
      "dense_3 (Dense)              (None, 5)                 165       \n",
      "=================================================================\n",
      "Total params: 2,581,397\n",
      "Trainable params: 2,581,397\n",
      "Non-trainable params: 0\n",
      "_________________________________________________________________\n"
     ]
    }
   ],
   "source": [
    "model.summary()"
   ]
  },
  {
   "cell_type": "code",
   "execution_count": 14,
   "id": "5ce5d709",
   "metadata": {},
   "outputs": [],
   "source": [
    "optimizer = optimizers.Adam(lr=LEARNING_RATE)\n",
    "model.compile(optimizer=optimizer, loss=\"binary_crossentropy\",  metrics=['accuracy'])"
   ]
  },
  {
   "cell_type": "code",
   "execution_count": 15,
   "id": "5e0fe4d4",
   "metadata": {},
   "outputs": [
    {
     "name": "stdout",
     "output_type": "stream",
     "text": [
      "WARNING:tensorflow:From C:\\Users\\Zakaria\\.conda\\envs\\Tensor\\lib\\site-packages\\tensorflow\\python\\ops\\math_grad.py:1250: add_dispatch_support.<locals>.wrapper (from tensorflow.python.ops.array_ops) is deprecated and will be removed in a future version.\n",
      "Instructions for updating:\n",
      "Use tf.where in 2.0, which has the same broadcast rule as np.where\n",
      "WARNING:tensorflow:From C:\\Users\\Zakaria\\.conda\\envs\\Tensor\\lib\\site-packages\\keras\\backend\\tensorflow_backend.py:422: The name tf.global_variables is deprecated. Please use tf.compat.v1.global_variables instead.\n",
      "\n",
      "Epoch 1/10\n",
      "366/366 [==============================] - 1038s 3s/step - loss: 1.2157 - accuracy: 0.8021 - val_loss: 1.0214 - val_accuracy: 0.8000\n",
      "Epoch 2/10\n",
      "366/366 [==============================] - 833s 2s/step - loss: 0.6782 - accuracy: 0.8196 - val_loss: 0.7783 - val_accuracy: 0.8289\n",
      "Epoch 3/10\n",
      "366/366 [==============================] - 605s 2s/step - loss: 0.5418 - accuracy: 0.8310 - val_loss: 1.2503 - val_accuracy: 0.8393\n",
      "Epoch 4/10\n",
      "366/366 [==============================] - 585s 2s/step - loss: 0.4710 - accuracy: 0.8486 - val_loss: 0.8928 - val_accuracy: 0.8693\n",
      "Epoch 5/10\n",
      "366/366 [==============================] - 633s 2s/step - loss: 0.4311 - accuracy: 0.8561 - val_loss: 0.7115 - val_accuracy: 0.8698\n",
      "Epoch 6/10\n",
      "366/366 [==============================] - 623s 2s/step - loss: 0.4042 - accuracy: 0.8618 - val_loss: 0.9319 - val_accuracy: 0.8663\n",
      "Epoch 7/10\n",
      "366/366 [==============================] - 639s 2s/step - loss: 0.3869 - accuracy: 0.8646 - val_loss: 0.6494 - val_accuracy: 0.8674\n",
      "Epoch 8/10\n",
      "366/366 [==============================] - 723s 2s/step - loss: 0.3748 - accuracy: 0.8631 - val_loss: 0.6191 - val_accuracy: 0.8688\n",
      "Epoch 9/10\n",
      "366/366 [==============================] - 1052s 3s/step - loss: 0.3691 - accuracy: 0.8646 - val_loss: 0.6510 - val_accuracy: 0.8707\n",
      "Epoch 10/10\n",
      "366/366 [==============================] - 1137s 3s/step - loss: 0.3530 - accuracy: 0.8684 - val_loss: 0.6151 - val_accuracy: 0.8742\n"
     ]
    }
   ],
   "source": [
    "m1 = model.fit_generator(generator=train_generator,\n",
    "                                          steps_per_epoch=STEP_SIZE_TRAIN,\n",
    "                                          validation_data=test_generator,\n",
    "                                          validation_steps=STEP_SIZE_TEST,\n",
    "                                          epochs=EPOCHS,\n",
    "                                          verbose=1).history"
   ]
  },
  {
   "cell_type": "code",
   "execution_count": null,
   "id": "0a11bbb3",
   "metadata": {},
   "outputs": [],
   "source": []
  },
  {
   "cell_type": "code",
   "execution_count": 16,
   "id": "f739d5cc",
   "metadata": {},
   "outputs": [
    {
     "data": {
      "image/png": "[encoded data removed]",
      "text/plain": [
       "<Figure size 576x360 with 1 Axes>"
      ]
     },
     "metadata": {
      "needs_background": "light"
     },
     "output_type": "display_data"
    }
   ],
   "source": [
    "plt.figure(figsize=(8,5))\n",
    "\n",
    "plt.plot(m1['accuracy'])\n",
    "plt.plot(m1['val_accuracy'])\n",
    "plt.title('Model Accuracy')\n",
    "plt.ylabel('Accuracy')\n",
    "plt.xlabel('Epoch')\n",
    "plt.legend(['Train', 'Test'], loc='upper left')\n",
    "plt.gca().ticklabel_format(axis='both', style='plain', useOffset=False)\n",
    "plt.show()"
   ]
  },
  {
   "cell_type": "code",
   "execution_count": 17,
   "id": "bb45b1e3",
   "metadata": {},
   "outputs": [
    {
     "data": {
      "image/png": "[encoded data removed]",
      "text/plain": [
       "<Figure size 576x360 with 1 Axes>"
      ]
     },
     "metadata": {
      "needs_background": "light"
     },
     "output_type": "display_data"
    }
   ],
   "source": [
    "plt.figure(figsize=(8,5))\n",
    "\n",
    "plt.plot(m1['loss'])\n",
    "plt.plot(m1['val_loss'])\n",
    "plt.title('Model Loss')\n",
    "plt.ylabel('Accuracy')\n",
    "plt.xlabel('Epoch')\n",
    "plt.legend(['Train', 'Test'], loc='upper left')\n",
    "plt.gca().ticklabel_format(axis='both', style='plain', useOffset=False)\n",
    "plt.show()"
   ]
  },
  {
   "cell_type": "code",
   "execution_count": 18,
   "id": "a6acf3ba",
   "metadata": {},
   "outputs": [
    {
     "name": "stdout",
     "output_type": "stream",
     "text": [
      "Found 2929 validated image filenames.\n",
      "2929/2929 [==============================] - 329s 112ms/step\n"
     ]
    }
   ],
   "source": [
    "complete_datagen = ImageDataGenerator(rescale=1./255)\n",
    "complete_generator = complete_datagen.flow_from_dataframe(dataframe=df_train_train,\n",
    "                                                          directory = \"./train_images_resized_preprocessed/\",\n",
    "                                                          x_col=\"file_name\",\n",
    "                                                          target_size=(HEIGHT, WIDTH),\n",
    "                                                          batch_size=1,\n",
    "                                                          shuffle=False,\n",
    "                                                          class_mode=None)\n",
    "\n",
    "STEP_SIZE_COMPLETE = complete_generator.n//complete_generator.batch_size\n",
    "train_preds = model.predict_generator(complete_generator, steps=STEP_SIZE_COMPLETE,verbose = 1)\n",
    "train_preds = [np.argmax(pred) for pred in train_preds]"
   ]
  },
  {
   "cell_type": "code",
   "execution_count": 19,
   "id": "9fcc8ec4",
   "metadata": {},
   "outputs": [
    {
     "name": "stdout",
     "output_type": "stream",
     "text": [
      "Train Accuracy score : 0.665\n"
     ]
    }
   ],
   "source": [
    "print(\"Train Accuracy score : %.3f\" % accuracy_score(df_train_train['diagnosis'].astype('int'),train_preds))"
   ]
  },
  {
   "cell_type": "code",
   "execution_count": 20,
   "id": "c1dfc777",
   "metadata": {},
   "outputs": [
    {
     "name": "stdout",
     "output_type": "stream",
     "text": [
      "733/733 [==============================] - 82s 112ms/step\n"
     ]
    }
   ],
   "source": [
    "test_generator.reset()\n",
    "STEP_SIZE_TEST = test_generator.n//test_generator.batch_size\n",
    "test_preds = model.predict_generator(test_generator, steps=STEP_SIZE_TEST,verbose = 1)\n",
    "test_labels = [np.argmax(pred) for pred in test_preds]"
   ]
  },
  {
   "cell_type": "code",
   "execution_count": 21,
   "id": "e0e36e53",
   "metadata": {},
   "outputs": [
    {
     "name": "stdout",
     "output_type": "stream",
     "text": [
      "Test Accuracy score : 0.666\n"
     ]
    }
   ],
   "source": [
    "print(\"Test Accuracy score : %.3f\" % accuracy_score(df_train_test['diagnosis'].astype('int'),test_labels))"
   ]
  },
  {
   "cell_type": "code",
   "execution_count": null,
   "id": "ccb0b230",
   "metadata": {},
   "outputs": [],
   "source": []
  }
 ],
 "metadata": {
  "kernelspec": {
   "display_name": "Python 3",
   "language": "python",
   "name": "python3"
  },
  "language_info": {
   "codemirror_mode": {
    "name": "ipython",
    "version": 3
   },
   "file_extension": ".py",
   "mimetype": "text/x-python",
   "name": "python",
   "nbconvert_exporter": "python",
   "pygments_lexer": "ipython3",
   "version": "3.7.10"
  }
 },
 "nbformat": 4,
 "nbformat_minor": 5
}
