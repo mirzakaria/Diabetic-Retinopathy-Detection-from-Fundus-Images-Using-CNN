{
 "cells": [
  {
   "cell_type": "code",
   "execution_count": 2,
   "id": "4959f794",
   "metadata": {},
   "outputs": [
    {
     "name": "stdout",
     "output_type": "stream",
     "text": [
      "4  CPU cores\n"
     ]
    },
    {
     "name": "stderr",
     "output_type": "stream",
     "text": [
      "Using TensorFlow backend.\n",
      "C:\\Users\\Zakaria\\.conda\\envs\\Tensor\\lib\\site-packages\\tensorflow\\python\\framework\\dtypes.py:516: FutureWarning: Passing (type, 1) or '1type' as a synonym of type is deprecated; in a future version of numpy, it will be understood as (type, (1,)) / '(1,)type'.\n",
      "  _np_qint8 = np.dtype([(\"qint8\", np.int8, 1)])\n",
      "C:\\Users\\Zakaria\\.conda\\envs\\Tensor\\lib\\site-packages\\tensorflow\\python\\framework\\dtypes.py:517: FutureWarning: Passing (type, 1) or '1type' as a synonym of type is deprecated; in a future version of numpy, it will be understood as (type, (1,)) / '(1,)type'.\n",
      "  _np_quint8 = np.dtype([(\"quint8\", np.uint8, 1)])\n",
      "C:\\Users\\Zakaria\\.conda\\envs\\Tensor\\lib\\site-packages\\tensorflow\\python\\framework\\dtypes.py:518: FutureWarning: Passing (type, 1) or '1type' as a synonym of type is deprecated; in a future version of numpy, it will be understood as (type, (1,)) / '(1,)type'.\n",
      "  _np_qint16 = np.dtype([(\"qint16\", np.int16, 1)])\n",
      "C:\\Users\\Zakaria\\.conda\\envs\\Tensor\\lib\\site-packages\\tensorflow\\python\\framework\\dtypes.py:519: FutureWarning: Passing (type, 1) or '1type' as a synonym of type is deprecated; in a future version of numpy, it will be understood as (type, (1,)) / '(1,)type'.\n",
      "  _np_quint16 = np.dtype([(\"quint16\", np.uint16, 1)])\n",
      "C:\\Users\\Zakaria\\.conda\\envs\\Tensor\\lib\\site-packages\\tensorflow\\python\\framework\\dtypes.py:520: FutureWarning: Passing (type, 1) or '1type' as a synonym of type is deprecated; in a future version of numpy, it will be understood as (type, (1,)) / '(1,)type'.\n",
      "  _np_qint32 = np.dtype([(\"qint32\", np.int32, 1)])\n",
      "C:\\Users\\Zakaria\\.conda\\envs\\Tensor\\lib\\site-packages\\tensorflow\\python\\framework\\dtypes.py:525: FutureWarning: Passing (type, 1) or '1type' as a synonym of type is deprecated; in a future version of numpy, it will be understood as (type, (1,)) / '(1,)type'.\n",
      "  np_resource = np.dtype([(\"resource\", np.ubyte, 1)])\n",
      "C:\\Users\\Zakaria\\.conda\\envs\\Tensor\\lib\\site-packages\\tensorboard\\compat\\tensorflow_stub\\dtypes.py:541: FutureWarning: Passing (type, 1) or '1type' as a synonym of type is deprecated; in a future version of numpy, it will be understood as (type, (1,)) / '(1,)type'.\n",
      "  _np_qint8 = np.dtype([(\"qint8\", np.int8, 1)])\n",
      "C:\\Users\\Zakaria\\.conda\\envs\\Tensor\\lib\\site-packages\\tensorboard\\compat\\tensorflow_stub\\dtypes.py:542: FutureWarning: Passing (type, 1) or '1type' as a synonym of type is deprecated; in a future version of numpy, it will be understood as (type, (1,)) / '(1,)type'.\n",
      "  _np_quint8 = np.dtype([(\"quint8\", np.uint8, 1)])\n",
      "C:\\Users\\Zakaria\\.conda\\envs\\Tensor\\lib\\site-packages\\tensorboard\\compat\\tensorflow_stub\\dtypes.py:543: FutureWarning: Passing (type, 1) or '1type' as a synonym of type is deprecated; in a future version of numpy, it will be understood as (type, (1,)) / '(1,)type'.\n",
      "  _np_qint16 = np.dtype([(\"qint16\", np.int16, 1)])\n",
      "C:\\Users\\Zakaria\\.conda\\envs\\Tensor\\lib\\site-packages\\tensorboard\\compat\\tensorflow_stub\\dtypes.py:544: FutureWarning: Passing (type, 1) or '1type' as a synonym of type is deprecated; in a future version of numpy, it will be understood as (type, (1,)) / '(1,)type'.\n",
      "  _np_quint16 = np.dtype([(\"quint16\", np.uint16, 1)])\n",
      "C:\\Users\\Zakaria\\.conda\\envs\\Tensor\\lib\\site-packages\\tensorboard\\compat\\tensorflow_stub\\dtypes.py:545: FutureWarning: Passing (type, 1) or '1type' as a synonym of type is deprecated; in a future version of numpy, it will be understood as (type, (1,)) / '(1,)type'.\n",
      "  _np_qint32 = np.dtype([(\"qint32\", np.int32, 1)])\n",
      "C:\\Users\\Zakaria\\.conda\\envs\\Tensor\\lib\\site-packages\\tensorboard\\compat\\tensorflow_stub\\dtypes.py:550: FutureWarning: Passing (type, 1) or '1type' as a synonym of type is deprecated; in a future version of numpy, it will be understood as (type, (1,)) / '(1,)type'.\n",
      "  np_resource = np.dtype([(\"resource\", np.ubyte, 1)])\n"
     ]
    }
   ],
   "source": [
    "import pandas as pd\n",
    "import numpy as np\n",
    "import os\n",
    "import pickle\n",
    "import multiprocessing\n",
    "from multiprocessing.pool import ThreadPool\n",
    "print(multiprocessing.cpu_count(),\" CPU cores\")\n",
    "\n",
    "import seaborn as sns\n",
    "%matplotlib inline\n",
    "import matplotlib.pyplot as plt\n",
    "plt.rcParams[\"axes.grid\"] = False\n",
    "\n",
    "from sklearn.metrics import confusion_matrix, cohen_kappa_score,accuracy_score\n",
    "from sklearn.model_selection import train_test_split\n",
    "\n",
    "\n",
    "from PIL import Image\n",
    "import cv2\n",
    "\n",
    "from keras.layers import Dense, Dropout, Flatten, Input, ZeroPadding2D\n",
    "from keras.layers.normalization import BatchNormalization\n",
    "from keras.preprocessing.image import ImageDataGenerator, array_to_img, img_to_array, load_img\n",
    "from keras.preprocessing import image\n",
    "from keras.utils import plot_model\n",
    "from keras.models import Model\n",
    "from keras.layers.convolutional import Conv2D\n",
    "from keras.layers.pooling import MaxPooling2D\n",
    "from numpy import array \n",
    "from keras import regularizers\n",
    "from keras import optimizers"
   ]
  },
  {
   "cell_type": "code",
   "execution_count": 3,
   "id": "1d377eba",
   "metadata": {},
   "outputs": [],
   "source": [
    "def load_data():\n",
    "    file = open('df_train_train', 'rb')\n",
    "    df_train_train = pickle.load(file)\n",
    "    file.close()\n",
    "\n",
    "    file = open('df_train_test', 'rb')\n",
    "    df_train_test = pickle.load(file)\n",
    "    file.close()\n",
    "    \n",
    "    return df_train_train,df_train_test"
   ]
  },
  {
   "cell_type": "code",
   "execution_count": 4,
   "id": "40d204df",
   "metadata": {},
   "outputs": [
    {
     "name": "stdout",
     "output_type": "stream",
     "text": [
      "(2929, 4) (733, 4) \n",
      "\n"
     ]
    },
    {
     "data": {
      "text/html": [
       "<div>\n",
       "<style scoped>\n",
       "    .dataframe tbody tr th:only-of-type {\n",
       "        vertical-align: middle;\n",
       "    }\n",
       "\n",
       "    .dataframe tbody tr th {\n",
       "        vertical-align: top;\n",
       "    }\n",
       "\n",
       "    .dataframe thead th {\n",
       "        text-align: right;\n",
       "    }\n",
       "</style>\n",
       "<table border=\"1\" class=\"dataframe\">\n",
       "  <thead>\n",
       "    <tr style=\"text-align: right;\">\n",
       "      <th></th>\n",
       "      <th>id_code</th>\n",
       "      <th>diagnosis</th>\n",
       "      <th>file_path</th>\n",
       "      <th>file_name</th>\n",
       "    </tr>\n",
       "  </thead>\n",
       "  <tbody>\n",
       "    <tr>\n",
       "      <th>418</th>\n",
       "      <td>1df0431bfa73</td>\n",
       "      <td>0</td>\n",
       "      <td>./train_images/1df0431bfa73.png</td>\n",
       "      <td>1df0431bfa73.png</td>\n",
       "    </tr>\n",
       "    <tr>\n",
       "      <th>922</th>\n",
       "      <td>42b08dca9b2f</td>\n",
       "      <td>2</td>\n",
       "      <td>./train_images/42b08dca9b2f.png</td>\n",
       "      <td>42b08dca9b2f.png</td>\n",
       "    </tr>\n",
       "    <tr>\n",
       "      <th>3535</th>\n",
       "      <td>f61bf44c677c</td>\n",
       "      <td>2</td>\n",
       "      <td>./train_images/f61bf44c677c.png</td>\n",
       "      <td>f61bf44c677c.png</td>\n",
       "    </tr>\n",
       "    <tr>\n",
       "      <th>2043</th>\n",
       "      <td>8fbb2ca39911</td>\n",
       "      <td>0</td>\n",
       "      <td>./train_images/8fbb2ca39911.png</td>\n",
       "      <td>8fbb2ca39911.png</td>\n",
       "    </tr>\n",
       "    <tr>\n",
       "      <th>1817</th>\n",
       "      <td>807135cbc438</td>\n",
       "      <td>2</td>\n",
       "      <td>./train_images/807135cbc438.png</td>\n",
       "      <td>807135cbc438.png</td>\n",
       "    </tr>\n",
       "    <tr>\n",
       "      <th>2230</th>\n",
       "      <td>9c893e16c055</td>\n",
       "      <td>0</td>\n",
       "      <td>./train_images/9c893e16c055.png</td>\n",
       "      <td>9c893e16c055.png</td>\n",
       "    </tr>\n",
       "  </tbody>\n",
       "</table>\n",
       "</div>"
      ],
      "text/plain": [
       "           id_code diagnosis                        file_path  \\\n",
       "418   1df0431bfa73         0  ./train_images/1df0431bfa73.png   \n",
       "922   42b08dca9b2f         2  ./train_images/42b08dca9b2f.png   \n",
       "3535  f61bf44c677c         2  ./train_images/f61bf44c677c.png   \n",
       "2043  8fbb2ca39911         0  ./train_images/8fbb2ca39911.png   \n",
       "1817  807135cbc438         2  ./train_images/807135cbc438.png   \n",
       "2230  9c893e16c055         0  ./train_images/9c893e16c055.png   \n",
       "\n",
       "             file_name  \n",
       "418   1df0431bfa73.png  \n",
       "922   42b08dca9b2f.png  \n",
       "3535  f61bf44c677c.png  \n",
       "2043  8fbb2ca39911.png  \n",
       "1817  807135cbc438.png  \n",
       "2230  9c893e16c055.png  "
      ]
     },
     "execution_count": 4,
     "metadata": {},
     "output_type": "execute_result"
    }
   ],
   "source": [
    "df_train_train,df_train_test = load_data()\n",
    "print(df_train_train.shape,df_train_test.shape,'\\n')\n",
    "df_train_train.head(6)"
   ]
  },
  {
   "cell_type": "code",
   "execution_count": 14,
   "id": "a9976ee8",
   "metadata": {},
   "outputs": [],
   "source": [
    "# Model parameters\n",
    "BATCH_SIZE = 8\n",
    "EPOCHS = 50\n",
    "WARMUP_EPOCHS = 2\n",
    "LEARNING_RATE = 1e-4\n",
    "WARMUP_LEARNING_RATE = 1e-3\n",
    "HEIGHT = 320\n",
    "WIDTH = 320\n",
    "CANAL = 3\n",
    "N_CLASSES = df_train_train['diagnosis'].nunique()\n",
    "ES_PATIENCE = 5\n",
    "RLROP_PATIENCE = 3\n",
    "DECAY_DROP = 0.5"
   ]
  },
  {
   "cell_type": "code",
   "execution_count": 5,
   "id": "22264e04",
   "metadata": {},
   "outputs": [],
   "source": [
    "def img_generator(train,test):\n",
    "    train_datagen=ImageDataGenerator(rescale=1./255,horizontal_flip=True)\n",
    "    \n",
    "    train_generator=train_datagen.flow_from_dataframe(dataframe=df_train_train,\n",
    "                                                      directory=\"./train_images_resized_preprocessed/\",\n",
    "                                                      x_col=\"file_name\",\n",
    "                                                      y_col=\"diagnosis\",\n",
    "                                                      batch_size=BATCH_SIZE,\n",
    "                                                      class_mode=\"categorical\",\n",
    "                                                      target_size=(HEIGHT, WIDTH),\n",
    "                                                      subset='training')\n",
    "    \n",
    "    \n",
    "    test_datagen = ImageDataGenerator(rescale=1./255)\n",
    "    test_generator = test_datagen.flow_from_dataframe(dataframe=df_train_test,\n",
    "                                                      directory = \"./test_images_resized_preprocessed/\",\n",
    "                                                      x_col=\"file_name\",\n",
    "                                                      y_col=\"diagnosis\",\n",
    "                                                      target_size=(HEIGHT, WIDTH),\n",
    "                                                      batch_size=1,\n",
    "                                                      class_mode=\"categorical\",\n",
    "                                                      shuffle=False)\n",
    "    \n",
    "    return train_generator,test_generator"
   ]
  },
  {
   "cell_type": "code",
   "execution_count": 6,
   "id": "42202dbc",
   "metadata": {},
   "outputs": [
    {
     "name": "stdout",
     "output_type": "stream",
     "text": [
      "Found 2929 validated image filenames belonging to 5 classes.\n",
      "Found 733 validated image filenames belonging to 5 classes.\n"
     ]
    }
   ],
   "source": [
    "train_generator,test_generator = img_generator(df_train_train,df_train_test)"
   ]
  },
  {
   "cell_type": "code",
   "execution_count": 7,
   "id": "5455263c",
   "metadata": {},
   "outputs": [
    {
     "name": "stdout",
     "output_type": "stream",
     "text": [
      "366 733\n"
     ]
    }
   ],
   "source": [
    "STEP_SIZE_TRAIN = train_generator.n//train_generator.batch_size\n",
    "STEP_SIZE_TEST = test_generator.n//test_generator.batch_size\n",
    "print(STEP_SIZE_TRAIN,STEP_SIZE_TEST)"
   ]
  },
  {
   "cell_type": "code",
   "execution_count": 8,
   "id": "d995798c",
   "metadata": {},
   "outputs": [],
   "source": [
    "import tensorflow as tf\n",
    "import keras\n",
    "from keras import applications\n",
    "from keras.preprocessing.image import ImageDataGenerator\n",
    "from keras import optimizers,Model,Sequential\n",
    "from keras.layers import Input,GlobalAveragePooling2D,Dropout,Dense,Activation\n",
    "from keras.callbacks.callbacks import EarlyStopping,ReduceLROnPlateau"
   ]
  },
  {
   "cell_type": "code",
   "execution_count": null,
   "id": "62a2baff",
   "metadata": {},
   "outputs": [],
   "source": []
  },
  {
   "cell_type": "code",
   "execution_count": 9,
   "id": "3b8e6d14",
   "metadata": {},
   "outputs": [
    {
     "name": "stdout",
     "output_type": "stream",
     "text": [
      "WARNING:tensorflow:From C:\\Users\\Zakaria\\.conda\\envs\\Tensor\\lib\\site-packages\\keras\\backend\\tensorflow_backend.py:4070: The name tf.nn.max_pool is deprecated. Please use tf.nn.max_pool2d instead.\n",
      "\n"
     ]
    }
   ],
   "source": [
    "visible = Input(shape=(320,320,3))\n",
    "conv1 = Conv2D(16, kernel_size=(3,3), activation='relu', strides=(1, 1))(visible)\n",
    "conv2 = Conv2D(16, kernel_size=(3,3), activation='relu', strides=(1, 1))(conv1)\n",
    "conv3 = ZeroPadding2D(padding=(1, 1))(conv2)\n",
    "pool1 = MaxPooling2D(pool_size=(2, 2))(conv2)\n",
    "#bat1 = BatchNormalization(axis = 1)(pool1)\n",
    "\n",
    "conv4 = Conv2D(32, kernel_size=(3,3), activation='relu', padding='valid', kernel_regularizer=regularizers.l2(0.01))(pool1)\n",
    "conv5 = Conv2D(32, kernel_size=(3,3), activation='relu', padding='valid', kernel_regularizer=regularizers.l2(0.01))(conv4)\n",
    "pool2 = MaxPooling2D(pool_size=(2, 2))(conv5)\n",
    "\n",
    "conv6 = Conv2D(64, kernel_size=(3,3), activation='relu',strides=(1, 1), padding='valid')(pool2)\n",
    "conv7 = Conv2D(64, kernel_size=(3,3), activation='relu',strides=(1, 1), padding='valid')(conv6)\n",
    "conv7 = ZeroPadding2D(padding=(1, 1))(conv7)\n",
    "pool3 = MaxPooling2D(pool_size=(2, 2))(conv7)\n",
    "\n",
    "conv8 = Conv2D(128, kernel_size=(3,3), activation='relu', padding='valid', kernel_regularizer=regularizers.l2(0.01))(pool3)\n",
    "conv9 = Conv2D(128, kernel_size=(2,2), activation='relu', strides=(1, 1), padding='valid')(conv8)\n",
    "pool4 = MaxPooling2D(pool_size=(2, 2))(conv9)\n",
    "\n",
    "flat = Flatten()(pool4)\n",
    "hidden1 = Dense(64, activation='relu')(flat)\n",
    "drop1 = Dropout(0.3)(hidden1)\n",
    "\n",
    "hidden2 = Dense(32, activation='relu')(drop1)\n",
    "drop2 = Dropout(0.2)(hidden2)\n",
    "\n",
    "output = Dense(5, activation='softmax')(drop2)\n",
    "#output = Dense(1, activation='sigmoid')(flat)\n",
    "model = Model(inputs=visible, outputs=output)"
   ]
  },
  {
   "cell_type": "code",
   "execution_count": 15,
   "id": "dba72004",
   "metadata": {},
   "outputs": [],
   "source": [
    "optimizer = optimizers.Adam(lr=LEARNING_RATE)\n",
    "model.compile(optimizer=optimizer, loss=\"categorical_crossentropy\",  metrics=['accuracy'])"
   ]
  },
  {
   "cell_type": "code",
   "execution_count": 16,
   "id": "de4aba9f",
   "metadata": {},
   "outputs": [
    {
     "name": "stdout",
     "output_type": "stream",
     "text": [
      "Epoch 1/50\n",
      "366/366 [==============================] - 592s 2s/step - loss: 1.2635 - accuracy: 0.6012 - val_loss: 3.8585 - val_accuracy: 0.5648\n",
      "Epoch 2/50\n",
      "366/366 [==============================] - 572s 2s/step - loss: 1.1888 - accuracy: 0.6296 - val_loss: 2.7026 - val_accuracy: 0.6658\n",
      "Epoch 3/50\n",
      "366/366 [==============================] - 572s 2s/step - loss: 1.1442 - accuracy: 0.6398 - val_loss: 3.0519 - val_accuracy: 0.6958\n",
      "Epoch 4/50\n",
      "366/366 [==============================] - 574s 2s/step - loss: 1.1077 - accuracy: 0.6546 - val_loss: 2.9670 - val_accuracy: 0.6944\n",
      "Epoch 5/50\n",
      "366/366 [==============================] - 571s 2s/step - loss: 1.0753 - accuracy: 0.6600 - val_loss: 2.1551 - val_accuracy: 0.6617\n",
      "Epoch 6/50\n",
      "366/366 [==============================] - 570s 2s/step - loss: 1.0675 - accuracy: 0.6700 - val_loss: 2.6659 - val_accuracy: 0.7080\n",
      "Epoch 7/50\n",
      "366/366 [==============================] - 570s 2s/step - loss: 1.0480 - accuracy: 0.6758 - val_loss: 2.0377 - val_accuracy: 0.7094\n",
      "Epoch 8/50\n",
      "366/366 [==============================] - 570s 2s/step - loss: 0.9997 - accuracy: 0.6881 - val_loss: 2.2794 - val_accuracy: 0.7149\n",
      "Epoch 9/50\n",
      "366/366 [==============================] - 573s 2s/step - loss: 0.9966 - accuracy: 0.6833 - val_loss: 2.4308 - val_accuracy: 0.7012\n",
      "Epoch 10/50\n",
      "366/366 [==============================] - 575s 2s/step - loss: 0.9965 - accuracy: 0.6809 - val_loss: 2.2216 - val_accuracy: 0.7053\n",
      "Epoch 11/50\n",
      "366/366 [==============================] - 571s 2s/step - loss: 0.9776 - accuracy: 0.6898 - val_loss: 2.1786 - val_accuracy: 0.7244\n",
      "Epoch 12/50\n",
      "366/366 [==============================] - 570s 2s/step - loss: 0.9835 - accuracy: 0.6915 - val_loss: 1.9824 - val_accuracy: 0.7053\n",
      "Epoch 13/50\n",
      "366/366 [==============================] - 571s 2s/step - loss: 0.9457 - accuracy: 0.6967 - val_loss: 2.5420 - val_accuracy: 0.7203\n",
      "Epoch 14/50\n",
      "366/366 [==============================] - 572s 2s/step - loss: 0.9728 - accuracy: 0.6898 - val_loss: 2.2475 - val_accuracy: 0.7231\n",
      "Epoch 15/50\n",
      "366/366 [==============================] - 571s 2s/step - loss: 0.9445 - accuracy: 0.6998 - val_loss: 2.1200 - val_accuracy: 0.7176\n",
      "Epoch 16/50\n",
      "366/366 [==============================] - 1038s 3s/step - loss: 0.9257 - accuracy: 0.7056 - val_loss: 2.0922 - val_accuracy: 0.7149\n",
      "Epoch 17/50\n",
      "366/366 [==============================] - 916s 3s/step - loss: 0.9135 - accuracy: 0.7063 - val_loss: 2.0349 - val_accuracy: 0.7190\n",
      "Epoch 18/50\n",
      "366/366 [==============================] - 572s 2s/step - loss: 0.9385 - accuracy: 0.7001 - val_loss: 2.1167 - val_accuracy: 0.7271\n",
      "Epoch 19/50\n",
      "366/366 [==============================] - 572s 2s/step - loss: 0.9075 - accuracy: 0.7080 - val_loss: 2.1761 - val_accuracy: 0.7203\n",
      "Epoch 20/50\n",
      "366/366 [==============================] - 573s 2s/step - loss: 0.8938 - accuracy: 0.7049 - val_loss: 2.2193 - val_accuracy: 0.7053\n",
      "Epoch 21/50\n",
      "366/366 [==============================] - 577s 2s/step - loss: 0.9059 - accuracy: 0.7076 - val_loss: 2.0721 - val_accuracy: 0.7244\n",
      "Epoch 22/50\n",
      "366/366 [==============================] - 587s 2s/step - loss: 0.8895 - accuracy: 0.7069 - val_loss: 1.9870 - val_accuracy: 0.7258\n",
      "Epoch 23/50\n",
      "366/366 [==============================] - 574s 2s/step - loss: 0.8814 - accuracy: 0.7145 - val_loss: 2.0620 - val_accuracy: 0.7244\n",
      "Epoch 24/50\n",
      "366/366 [==============================] - 573s 2s/step - loss: 0.8843 - accuracy: 0.7117 - val_loss: 2.0402 - val_accuracy: 0.7217\n",
      "Epoch 25/50\n",
      "366/366 [==============================] - 573s 2s/step - loss: 0.8842 - accuracy: 0.7097 - val_loss: 1.9798 - val_accuracy: 0.7271\n",
      "Epoch 26/50\n",
      "366/366 [==============================] - 826s 2s/step - loss: 0.8636 - accuracy: 0.7104 - val_loss: 2.1512 - val_accuracy: 0.7312\n",
      "Epoch 27/50\n",
      "366/366 [==============================] - 577s 2s/step - loss: 0.8607 - accuracy: 0.7162 - val_loss: 1.8511 - val_accuracy: 0.7203\n",
      "Epoch 28/50\n",
      "366/366 [==============================] - 578s 2s/step - loss: 0.8639 - accuracy: 0.7121 - val_loss: 2.0675 - val_accuracy: 0.7231\n",
      "Epoch 29/50\n",
      "366/366 [==============================] - 577s 2s/step - loss: 0.8542 - accuracy: 0.7159 - val_loss: 2.2266 - val_accuracy: 0.7244\n",
      "Epoch 30/50\n",
      "366/366 [==============================] - 580s 2s/step - loss: 0.8405 - accuracy: 0.7165 - val_loss: 2.2524 - val_accuracy: 0.7244\n",
      "Epoch 31/50\n",
      "366/366 [==============================] - 573s 2s/step - loss: 0.8518 - accuracy: 0.7162 - val_loss: 2.1324 - val_accuracy: 0.7271\n",
      "Epoch 32/50\n",
      "366/366 [==============================] - 574s 2s/step - loss: 0.8347 - accuracy: 0.7165 - val_loss: 2.0052 - val_accuracy: 0.7203\n",
      "Epoch 33/50\n",
      "366/366 [==============================] - 574s 2s/step - loss: 0.8478 - accuracy: 0.7121 - val_loss: 2.2242 - val_accuracy: 0.7244\n",
      "Epoch 34/50\n",
      "366/366 [==============================] - 574s 2s/step - loss: 0.8215 - accuracy: 0.7186 - val_loss: 1.9461 - val_accuracy: 0.7258\n",
      "Epoch 35/50\n",
      "366/366 [==============================] - 574s 2s/step - loss: 0.8243 - accuracy: 0.7224 - val_loss: 2.0319 - val_accuracy: 0.7231\n",
      "Epoch 36/50\n",
      "366/366 [==============================] - 574s 2s/step - loss: 0.8062 - accuracy: 0.7193 - val_loss: 1.9701 - val_accuracy: 0.7258\n",
      "Epoch 37/50\n",
      "366/366 [==============================] - 577s 2s/step - loss: 0.8050 - accuracy: 0.7210 - val_loss: 1.8918 - val_accuracy: 0.7203\n",
      "Epoch 38/50\n",
      "366/366 [==============================] - 576s 2s/step - loss: 0.8134 - accuracy: 0.7206 - val_loss: 1.9395 - val_accuracy: 0.7203\n",
      "Epoch 39/50\n",
      "366/366 [==============================] - 575s 2s/step - loss: 0.8063 - accuracy: 0.7254 - val_loss: 2.0285 - val_accuracy: 0.7258\n",
      "Epoch 40/50\n",
      "366/366 [==============================] - 578s 2s/step - loss: 0.7927 - accuracy: 0.7251 - val_loss: 2.1184 - val_accuracy: 0.7231\n",
      "Epoch 41/50\n",
      "366/366 [==============================] - 581s 2s/step - loss: 0.7916 - accuracy: 0.7193 - val_loss: 2.1245 - val_accuracy: 0.7244\n",
      "Epoch 42/50\n",
      "366/366 [==============================] - 575s 2s/step - loss: 0.7851 - accuracy: 0.7248 - val_loss: 2.0243 - val_accuracy: 0.7299\n",
      "Epoch 43/50\n",
      "366/366 [==============================] - 581s 2s/step - loss: 0.7692 - accuracy: 0.7241 - val_loss: 1.9243 - val_accuracy: 0.7231\n",
      "Epoch 44/50\n",
      "366/366 [==============================] - 587s 2s/step - loss: 0.7817 - accuracy: 0.7230 - val_loss: 2.1116 - val_accuracy: 0.7312\n",
      "Epoch 45/50\n",
      "366/366 [==============================] - 580s 2s/step - loss: 0.7543 - accuracy: 0.7346 - val_loss: 1.9549 - val_accuracy: 0.7094\n",
      "Epoch 46/50\n",
      "366/366 [==============================] - 581s 2s/step - loss: 0.7684 - accuracy: 0.7227 - val_loss: 2.1451 - val_accuracy: 0.7326\n",
      "Epoch 47/50\n",
      "366/366 [==============================] - 580s 2s/step - loss: 0.7388 - accuracy: 0.7364 - val_loss: 1.8968 - val_accuracy: 0.7217\n",
      "Epoch 48/50\n",
      "366/366 [==============================] - 580s 2s/step - loss: 0.7629 - accuracy: 0.7213 - val_loss: 2.0276 - val_accuracy: 0.7285\n",
      "Epoch 49/50\n",
      "366/366 [==============================] - 572s 2s/step - loss: 0.7603 - accuracy: 0.7248 - val_loss: 2.0464 - val_accuracy: 0.7190\n",
      "Epoch 50/50\n",
      "366/366 [==============================] - 628s 2s/step - loss: 0.7386 - accuracy: 0.7261 - val_loss: 2.0338 - val_accuracy: 0.7203\n"
     ]
    }
   ],
   "source": [
    "m1 = model.fit_generator(generator=train_generator,\n",
    "                                          steps_per_epoch=STEP_SIZE_TRAIN,\n",
    "                                          validation_data=test_generator,\n",
    "                                          validation_steps=STEP_SIZE_TEST,\n",
    "                                          epochs=EPOCHS,\n",
    "                                          verbose=1).history"
   ]
  },
  {
   "cell_type": "code",
   "execution_count": 19,
   "id": "b6a2dab7",
   "metadata": {},
   "outputs": [
    {
     "data": {
      "image/png": "[encoded data removed]",
      "text/plain": [
       "<Figure size 576x360 with 1 Axes>"
      ]
     },
     "metadata": {
      "needs_background": "light"
     },
     "output_type": "display_data"
    }
   ],
   "source": [
    "plt.figure(figsize=(8,5))\n",
    "\n",
    "plt.plot(m1['accuracy'])\n",
    "plt.plot(m1['val_accuracy'])\n",
    "plt.title('Model Accuracy')\n",
    "plt.ylabel('Accuracy')\n",
    "plt.xlabel('Epoch')\n",
    "plt.legend(['Train', 'Test'], loc='upper left')\n",
    "plt.gca().ticklabel_format(axis='both', style='plain', useOffset=False)\n",
    "plt.show()"
   ]
  },
  {
   "cell_type": "code",
   "execution_count": 20,
   "id": "bdb81c1c",
   "metadata": {},
   "outputs": [
    {
     "data": {
      "image/png": "[encoded data removed]",
      "text/plain": [
       "<Figure size 576x360 with 1 Axes>"
      ]
     },
     "metadata": {
      "needs_background": "light"
     },
     "output_type": "display_data"
    }
   ],
   "source": [
    "plt.figure(figsize=(8,5))\n",
    "\n",
    "plt.plot(m1['loss'])\n",
    "plt.plot(m1['val_loss'])\n",
    "plt.title('Model Loss')\n",
    "plt.ylabel('Accuracy')\n",
    "plt.xlabel('Epoch')\n",
    "plt.legend(['Train', 'Test'], loc='upper left')\n",
    "plt.gca().ticklabel_format(axis='both', style='plain', useOffset=False)\n",
    "plt.show()"
   ]
  },
  {
   "cell_type": "code",
   "execution_count": 21,
   "id": "178a63e8",
   "metadata": {},
   "outputs": [
    {
     "name": "stdout",
     "output_type": "stream",
     "text": [
      "Found 2929 validated image filenames.\n",
      "2929/2929 [==============================] - 171s 58ms/step\n"
     ]
    }
   ],
   "source": [
    "complete_datagen = ImageDataGenerator(rescale=1./255)\n",
    "complete_generator = complete_datagen.flow_from_dataframe(dataframe=df_train_train,\n",
    "                                                          directory = \"./train_images_resized_preprocessed/\",\n",
    "                                                          x_col=\"file_name\",\n",
    "                                                          target_size=(HEIGHT, WIDTH),\n",
    "                                                          batch_size=1,\n",
    "                                                          shuffle=False,\n",
    "                                                          class_mode=None)\n",
    "\n",
    "STEP_SIZE_COMPLETE = complete_generator.n//complete_generator.batch_size\n",
    "train_preds = model.predict_generator(complete_generator, steps=STEP_SIZE_COMPLETE,verbose = 1)\n",
    "train_preds = [np.argmax(pred) for pred in train_preds]"
   ]
  },
  {
   "cell_type": "code",
   "execution_count": 22,
   "id": "25a69701",
   "metadata": {},
   "outputs": [
    {
     "name": "stdout",
     "output_type": "stream",
     "text": [
      "Train Accuracy score : 0.736\n"
     ]
    }
   ],
   "source": [
    "print(\"Train Accuracy score : %.3f\" % accuracy_score(df_train_train['diagnosis'].astype('int'),train_preds))"
   ]
  },
  {
   "cell_type": "code",
   "execution_count": 1,
   "id": "d2721556",
   "metadata": {},
   "outputs": [
    {
     "ename": "NameError",
     "evalue": "name 'test_generator' is not defined",
     "output_type": "error",
     "traceback": [
      "\u001b[1;31m---------------------------------------------------------------------------\u001b[0m",
      "\u001b[1;31mNameError\u001b[0m                                 Traceback (most recent call last)",
      "\u001b[1;32m<ipython-input-1-33d3e319170e>\u001b[0m in \u001b[0;36m<module>\u001b[1;34m\u001b[0m\n\u001b[1;32m----> 1\u001b[1;33m \u001b[0mtest_generator\u001b[0m\u001b[1;33m.\u001b[0m\u001b[0mreset\u001b[0m\u001b[1;33m(\u001b[0m\u001b[1;33m)\u001b[0m\u001b[1;33m\u001b[0m\u001b[1;33m\u001b[0m\u001b[0m\n\u001b[0m\u001b[0;32m      2\u001b[0m \u001b[0mSTEP_SIZE_TEST\u001b[0m \u001b[1;33m=\u001b[0m \u001b[0mtest_generator\u001b[0m\u001b[1;33m.\u001b[0m\u001b[0mn\u001b[0m\u001b[1;33m//\u001b[0m\u001b[0mtest_generator\u001b[0m\u001b[1;33m.\u001b[0m\u001b[0mbatch_size\u001b[0m\u001b[1;33m\u001b[0m\u001b[1;33m\u001b[0m\u001b[0m\n\u001b[0;32m      3\u001b[0m \u001b[0mtest_preds\u001b[0m \u001b[1;33m=\u001b[0m \u001b[0mmodel\u001b[0m\u001b[1;33m.\u001b[0m\u001b[0mpredict_generator\u001b[0m\u001b[1;33m(\u001b[0m\u001b[0mtest_generator\u001b[0m\u001b[1;33m,\u001b[0m \u001b[0msteps\u001b[0m\u001b[1;33m=\u001b[0m\u001b[0mSTEP_SIZE_TEST\u001b[0m\u001b[1;33m,\u001b[0m\u001b[0mverbose\u001b[0m \u001b[1;33m=\u001b[0m \u001b[1;36m1\u001b[0m\u001b[1;33m)\u001b[0m\u001b[1;33m\u001b[0m\u001b[1;33m\u001b[0m\u001b[0m\n\u001b[0;32m      4\u001b[0m \u001b[0mtest_labels\u001b[0m \u001b[1;33m=\u001b[0m \u001b[1;33m[\u001b[0m\u001b[0mnp\u001b[0m\u001b[1;33m.\u001b[0m\u001b[0margmax\u001b[0m\u001b[1;33m(\u001b[0m\u001b[0mpred\u001b[0m\u001b[1;33m)\u001b[0m \u001b[1;32mfor\u001b[0m \u001b[0mpred\u001b[0m \u001b[1;32min\u001b[0m \u001b[0mtest_preds\u001b[0m\u001b[1;33m]\u001b[0m\u001b[1;33m\u001b[0m\u001b[1;33m\u001b[0m\u001b[0m\n",
      "\u001b[1;31mNameError\u001b[0m: name 'test_generator' is not defined"
     ]
    }
   ],
   "source": [
    "test_generator.reset()\n",
    "STEP_SIZE_TEST = test_generator.n//test_generator.batch_size\n",
    "test_preds = model.predict_generator(test_generator, steps=STEP_SIZE_TEST,verbose = 1)\n",
    "test_labels = [np.argmax(pred) for pred in test_preds]"
   ]
  },
  {
   "cell_type": "code",
   "execution_count": 24,
   "id": "f0d0887e",
   "metadata": {},
   "outputs": [
    {
     "name": "stdout",
     "output_type": "stream",
     "text": [
      "Test Accuracy score : 0.720\n"
     ]
    }
   ],
   "source": [
    "print(\"Test Accuracy score : %.3f\" % accuracy_score(df_train_test['diagnosis'].astype('int'),test_labels))"
   ]
  },
  {
   "cell_type": "code",
   "execution_count": null,
   "id": "8ca35b00",
   "metadata": {},
   "outputs": [],
   "source": []
  }
 ],
 "metadata": {
  "kernelspec": {
   "display_name": "Python 3",
   "language": "python",
   "name": "python3"
  },
  "language_info": {
   "codemirror_mode": {
    "name": "ipython",
    "version": 3
   },
   "file_extension": ".py",
   "mimetype": "text/x-python",
   "name": "python",
   "nbconvert_exporter": "python",
   "pygments_lexer": "ipython3",
   "version": "3.7.10"
  }
 },
 "nbformat": 4,
 "nbformat_minor": 5
}
