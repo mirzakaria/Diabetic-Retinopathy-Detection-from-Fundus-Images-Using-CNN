{
 "cells": [
  {
   "cell_type": "code",
   "execution_count": 5,
   "id": "6acc1315",
   "metadata": {},
   "outputs": [
    {
     "name": "stdout",
     "output_type": "stream",
     "text": [
      "4  CPU cores\n"
     ]
    },
    {
     "name": "stderr",
     "output_type": "stream",
     "text": [
      "Using TensorFlow backend.\n",
      "C:\\Users\\Zakaria\\.conda\\envs\\Tensor\\lib\\site-packages\\tensorflow\\python\\framework\\dtypes.py:516: FutureWarning: Passing (type, 1) or '1type' as a synonym of type is deprecated; in a future version of numpy, it will be understood as (type, (1,)) / '(1,)type'.\n",
      "  _np_qint8 = np.dtype([(\"qint8\", np.int8, 1)])\n",
      "C:\\Users\\Zakaria\\.conda\\envs\\Tensor\\lib\\site-packages\\tensorflow\\python\\framework\\dtypes.py:517: FutureWarning: Passing (type, 1) or '1type' as a synonym of type is deprecated; in a future version of numpy, it will be understood as (type, (1,)) / '(1,)type'.\n",
      "  _np_quint8 = np.dtype([(\"quint8\", np.uint8, 1)])\n",
      "C:\\Users\\Zakaria\\.conda\\envs\\Tensor\\lib\\site-packages\\tensorflow\\python\\framework\\dtypes.py:518: FutureWarning: Passing (type, 1) or '1type' as a synonym of type is deprecated; in a future version of numpy, it will be understood as (type, (1,)) / '(1,)type'.\n",
      "  _np_qint16 = np.dtype([(\"qint16\", np.int16, 1)])\n",
      "C:\\Users\\Zakaria\\.conda\\envs\\Tensor\\lib\\site-packages\\tensorflow\\python\\framework\\dtypes.py:519: FutureWarning: Passing (type, 1) or '1type' as a synonym of type is deprecated; in a future version of numpy, it will be understood as (type, (1,)) / '(1,)type'.\n",
      "  _np_quint16 = np.dtype([(\"quint16\", np.uint16, 1)])\n",
      "C:\\Users\\Zakaria\\.conda\\envs\\Tensor\\lib\\site-packages\\tensorflow\\python\\framework\\dtypes.py:520: FutureWarning: Passing (type, 1) or '1type' as a synonym of type is deprecated; in a future version of numpy, it will be understood as (type, (1,)) / '(1,)type'.\n",
      "  _np_qint32 = np.dtype([(\"qint32\", np.int32, 1)])\n",
      "C:\\Users\\Zakaria\\.conda\\envs\\Tensor\\lib\\site-packages\\tensorflow\\python\\framework\\dtypes.py:525: FutureWarning: Passing (type, 1) or '1type' as a synonym of type is deprecated; in a future version of numpy, it will be understood as (type, (1,)) / '(1,)type'.\n",
      "  np_resource = np.dtype([(\"resource\", np.ubyte, 1)])\n",
      "C:\\Users\\Zakaria\\.conda\\envs\\Tensor\\lib\\site-packages\\tensorboard\\compat\\tensorflow_stub\\dtypes.py:541: FutureWarning: Passing (type, 1) or '1type' as a synonym of type is deprecated; in a future version of numpy, it will be understood as (type, (1,)) / '(1,)type'.\n",
      "  _np_qint8 = np.dtype([(\"qint8\", np.int8, 1)])\n",
      "C:\\Users\\Zakaria\\.conda\\envs\\Tensor\\lib\\site-packages\\tensorboard\\compat\\tensorflow_stub\\dtypes.py:542: FutureWarning: Passing (type, 1) or '1type' as a synonym of type is deprecated; in a future version of numpy, it will be understood as (type, (1,)) / '(1,)type'.\n",
      "  _np_quint8 = np.dtype([(\"quint8\", np.uint8, 1)])\n",
      "C:\\Users\\Zakaria\\.conda\\envs\\Tensor\\lib\\site-packages\\tensorboard\\compat\\tensorflow_stub\\dtypes.py:543: FutureWarning: Passing (type, 1) or '1type' as a synonym of type is deprecated; in a future version of numpy, it will be understood as (type, (1,)) / '(1,)type'.\n",
      "  _np_qint16 = np.dtype([(\"qint16\", np.int16, 1)])\n",
      "C:\\Users\\Zakaria\\.conda\\envs\\Tensor\\lib\\site-packages\\tensorboard\\compat\\tensorflow_stub\\dtypes.py:544: FutureWarning: Passing (type, 1) or '1type' as a synonym of type is deprecated; in a future version of numpy, it will be understood as (type, (1,)) / '(1,)type'.\n",
      "  _np_quint16 = np.dtype([(\"quint16\", np.uint16, 1)])\n",
      "C:\\Users\\Zakaria\\.conda\\envs\\Tensor\\lib\\site-packages\\tensorboard\\compat\\tensorflow_stub\\dtypes.py:545: FutureWarning: Passing (type, 1) or '1type' as a synonym of type is deprecated; in a future version of numpy, it will be understood as (type, (1,)) / '(1,)type'.\n",
      "  _np_qint32 = np.dtype([(\"qint32\", np.int32, 1)])\n",
      "C:\\Users\\Zakaria\\.conda\\envs\\Tensor\\lib\\site-packages\\tensorboard\\compat\\tensorflow_stub\\dtypes.py:550: FutureWarning: Passing (type, 1) or '1type' as a synonym of type is deprecated; in a future version of numpy, it will be understood as (type, (1,)) / '(1,)type'.\n",
      "  np_resource = np.dtype([(\"resource\", np.ubyte, 1)])\n"
     ]
    }
   ],
   "source": [
    "import pandas as pd\n",
    "import numpy as np\n",
    "import os\n",
    "import pickle\n",
    "import multiprocessing\n",
    "from multiprocessing.pool import ThreadPool\n",
    "print(multiprocessing.cpu_count(),\" CPU cores\")\n",
    "\n",
    "import seaborn as sns\n",
    "%matplotlib inline\n",
    "import matplotlib.pyplot as plt\n",
    "plt.rcParams[\"axes.grid\"] = False\n",
    "\n",
    "from sklearn.metrics import confusion_matrix, cohen_kappa_score,accuracy_score\n",
    "\n",
    "from PIL import Image\n",
    "import cv2\n",
    "\n",
    "from keras.layers import Dense, Dropout, Flatten, Input, ZeroPadding2D\n",
    "from keras.layers.normalization import BatchNormalization\n",
    "from keras.preprocessing.image import ImageDataGenerator, array_to_img, img_to_array, load_img\n",
    "from keras.preprocessing import image\n",
    "from keras.utils import plot_model\n",
    "from keras.models import Model\n",
    "from keras.layers.convolutional import Conv2D\n",
    "from keras.layers.pooling import MaxPooling2D\n",
    "from numpy import array \n",
    "from keras import regularizers\n",
    "from keras import optimizers"
   ]
  },
  {
   "cell_type": "code",
   "execution_count": 6,
   "id": "d7d5f0b4",
   "metadata": {},
   "outputs": [],
   "source": [
    "def load_data():\n",
    "    file = open('df_train_train', 'rb')\n",
    "    df_train_train = pickle.load(file)\n",
    "    file.close()\n",
    "\n",
    "    file = open('df_train_test', 'rb')\n",
    "    df_train_test = pickle.load(file)\n",
    "    file.close()\n",
    "    \n",
    "    return df_train_train,df_train_test"
   ]
  },
  {
   "cell_type": "code",
   "execution_count": 7,
   "id": "32638b66",
   "metadata": {},
   "outputs": [
    {
     "name": "stdout",
     "output_type": "stream",
     "text": [
      "(2929, 4) (733, 4) \n",
      "\n"
     ]
    },
    {
     "data": {
      "text/html": [
       "<div>\n",
       "<style scoped>\n",
       "    .dataframe tbody tr th:only-of-type {\n",
       "        vertical-align: middle;\n",
       "    }\n",
       "\n",
       "    .dataframe tbody tr th {\n",
       "        vertical-align: top;\n",
       "    }\n",
       "\n",
       "    .dataframe thead th {\n",
       "        text-align: right;\n",
       "    }\n",
       "</style>\n",
       "<table border=\"1\" class=\"dataframe\">\n",
       "  <thead>\n",
       "    <tr style=\"text-align: right;\">\n",
       "      <th></th>\n",
       "      <th>id_code</th>\n",
       "      <th>diagnosis</th>\n",
       "      <th>file_path</th>\n",
       "      <th>file_name</th>\n",
       "    </tr>\n",
       "  </thead>\n",
       "  <tbody>\n",
       "    <tr>\n",
       "      <th>418</th>\n",
       "      <td>1df0431bfa73</td>\n",
       "      <td>0</td>\n",
       "      <td>./train_images/1df0431bfa73.png</td>\n",
       "      <td>1df0431bfa73.png</td>\n",
       "    </tr>\n",
       "    <tr>\n",
       "      <th>922</th>\n",
       "      <td>42b08dca9b2f</td>\n",
       "      <td>2</td>\n",
       "      <td>./train_images/42b08dca9b2f.png</td>\n",
       "      <td>42b08dca9b2f.png</td>\n",
       "    </tr>\n",
       "    <tr>\n",
       "      <th>3535</th>\n",
       "      <td>f61bf44c677c</td>\n",
       "      <td>2</td>\n",
       "      <td>./train_images/f61bf44c677c.png</td>\n",
       "      <td>f61bf44c677c.png</td>\n",
       "    </tr>\n",
       "    <tr>\n",
       "      <th>2043</th>\n",
       "      <td>8fbb2ca39911</td>\n",
       "      <td>0</td>\n",
       "      <td>./train_images/8fbb2ca39911.png</td>\n",
       "      <td>8fbb2ca39911.png</td>\n",
       "    </tr>\n",
       "    <tr>\n",
       "      <th>1817</th>\n",
       "      <td>807135cbc438</td>\n",
       "      <td>2</td>\n",
       "      <td>./train_images/807135cbc438.png</td>\n",
       "      <td>807135cbc438.png</td>\n",
       "    </tr>\n",
       "    <tr>\n",
       "      <th>2230</th>\n",
       "      <td>9c893e16c055</td>\n",
       "      <td>0</td>\n",
       "      <td>./train_images/9c893e16c055.png</td>\n",
       "      <td>9c893e16c055.png</td>\n",
       "    </tr>\n",
       "  </tbody>\n",
       "</table>\n",
       "</div>"
      ],
      "text/plain": [
       "           id_code diagnosis                        file_path  \\\n",
       "418   1df0431bfa73         0  ./train_images/1df0431bfa73.png   \n",
       "922   42b08dca9b2f         2  ./train_images/42b08dca9b2f.png   \n",
       "3535  f61bf44c677c         2  ./train_images/f61bf44c677c.png   \n",
       "2043  8fbb2ca39911         0  ./train_images/8fbb2ca39911.png   \n",
       "1817  807135cbc438         2  ./train_images/807135cbc438.png   \n",
       "2230  9c893e16c055         0  ./train_images/9c893e16c055.png   \n",
       "\n",
       "             file_name  \n",
       "418   1df0431bfa73.png  \n",
       "922   42b08dca9b2f.png  \n",
       "3535  f61bf44c677c.png  \n",
       "2043  8fbb2ca39911.png  \n",
       "1817  807135cbc438.png  \n",
       "2230  9c893e16c055.png  "
      ]
     },
     "execution_count": 7,
     "metadata": {},
     "output_type": "execute_result"
    }
   ],
   "source": [
    "df_train_train,df_train_test = load_data()\n",
    "print(df_train_train.shape,df_train_test.shape,'\\n')\n",
    "df_train_train.head(6)"
   ]
  },
  {
   "cell_type": "code",
   "execution_count": 4,
   "id": "423dc93f",
   "metadata": {},
   "outputs": [],
   "source": [
    "BATCH_SIZE = 8\n",
    "EPOCHS = 50\n",
    "WARMUP_EPOCHS = 2\n",
    "LEARNING_RATE = 1e-4\n",
    "WARMUP_LEARNING_RATE = 1e-3\n",
    "HEIGHT = 320\n",
    "WIDTH = 320\n",
    "CANAL = 3\n",
    "N_CLASSES = df_train_train['diagnosis'].nunique()\n",
    "ES_PATIENCE = 5\n",
    "RLROP_PATIENCE = 3\n",
    "DECAY_DROP = 0.5"
   ]
  },
  {
   "cell_type": "code",
   "execution_count": 5,
   "id": "039cbef6",
   "metadata": {},
   "outputs": [],
   "source": [
    "def img_generator(train,test):\n",
    "    train_datagen=ImageDataGenerator(rescale=1./255,horizontal_flip=True)\n",
    "    \n",
    "    train_generator=train_datagen.flow_from_dataframe(dataframe=df_train_train,\n",
    "                                                      directory=\"./train_images_resized_preprocessed/\",\n",
    "                                                      x_col=\"file_name\",\n",
    "                                                      y_col=\"diagnosis\",\n",
    "                                                      batch_size=BATCH_SIZE,\n",
    "                                                      class_mode=\"categorical\",\n",
    "                                                      target_size=(HEIGHT, WIDTH),\n",
    "                                                      subset='training')\n",
    "    \n",
    "    \n",
    "    test_datagen = ImageDataGenerator(rescale=1./255)\n",
    "    test_generator = test_datagen.flow_from_dataframe(dataframe=df_train_test,\n",
    "                                                      directory = \"./test_images_resized_preprocessed/\",\n",
    "                                                      x_col=\"file_name\",\n",
    "                                                      y_col=\"diagnosis\",\n",
    "                                                      target_size=(HEIGHT, WIDTH),\n",
    "                                                      batch_size=1,\n",
    "                                                      class_mode=\"categorical\",\n",
    "                                                      shuffle=False)\n",
    "    \n",
    "    return train_generator,test_generator"
   ]
  },
  {
   "cell_type": "code",
   "execution_count": 6,
   "id": "dc314e98",
   "metadata": {},
   "outputs": [
    {
     "name": "stdout",
     "output_type": "stream",
     "text": [
      "Found 2929 validated image filenames belonging to 5 classes.\n",
      "Found 733 validated image filenames belonging to 5 classes.\n"
     ]
    }
   ],
   "source": [
    "train_generator,test_generator = img_generator(df_train_train,df_train_test)"
   ]
  },
  {
   "cell_type": "code",
   "execution_count": 7,
   "id": "9a6a3122",
   "metadata": {},
   "outputs": [
    {
     "name": "stdout",
     "output_type": "stream",
     "text": [
      "366 733\n"
     ]
    }
   ],
   "source": [
    "STEP_SIZE_TRAIN = train_generator.n//train_generator.batch_size\n",
    "STEP_SIZE_TEST = test_generator.n//test_generator.batch_size\n",
    "print(STEP_SIZE_TRAIN,STEP_SIZE_TEST)"
   ]
  },
  {
   "cell_type": "code",
   "execution_count": 8,
   "id": "ca0fe952",
   "metadata": {},
   "outputs": [],
   "source": [
    "import keras\n",
    "from keras import applications\n",
    "from keras.models import Sequential\n",
    "from keras.preprocessing.image import ImageDataGenerator\n",
    "from keras import optimizers,Model,Sequential\n",
    "from keras.layers import Input,GlobalAveragePooling2D,Dropout,Dense,Activation\n",
    "from keras.callbacks.callbacks import EarlyStopping,ReduceLROnPlateau"
   ]
  },
  {
   "cell_type": "code",
   "execution_count": 9,
   "id": "d5c44272",
   "metadata": {},
   "outputs": [
    {
     "name": "stdout",
     "output_type": "stream",
     "text": [
      "WARNING:tensorflow:From C:\\Users\\Zakaria\\.conda\\envs\\Tensor\\lib\\site-packages\\keras\\backend\\tensorflow_backend.py:4070: The name tf.nn.max_pool is deprecated. Please use tf.nn.max_pool2d instead.\n",
      "\n"
     ]
    }
   ],
   "source": [
    "visible = Input(shape=(320,320,3))\n",
    "conv6 = Conv2D(64, kernel_size=(6,6), activation='relu', strides=(1, 1) ,padding='valid')(visible)\n",
    "pool3 = MaxPooling2D(pool_size=(2, 2))(conv6)\n",
    "#bat1 = BatchNormalization(axis = 1)(pool1)\n",
    "\n",
    "conv2 = Conv2D(64, kernel_size=(4,4), activation='relu', padding='valid', kernel_regularizer=regularizers.l2(0.01))(pool3)\n",
    "pool2 = MaxPooling2D(pool_size=(2, 2))(conv2)\n",
    "\n",
    "conv3 = Conv2D(128, kernel_size=(4,4), activation='relu',strides=(1, 1), padding='valid')(pool2)\n",
    "pool4 = MaxPooling2D(pool_size=(2, 2))(conv3)\n",
    "\n",
    "conv4 = Conv2D(128, kernel_size=(4,4), activation='relu', padding='valid', kernel_regularizer=regularizers.l2(0.01))(pool4)\n",
    "conv5 = Conv2D(128, kernel_size=(2,2), activation='relu', strides=(1, 1), padding='valid')(conv4)\n",
    "\n",
    "flat = Flatten()(conv5)\n",
    "hidden1 = Dense(64, activation='relu')(flat)\n",
    "drop1 = Dropout(0.3)(hidden1)\n",
    "\n",
    "hidden2 = Dense(32, activation='relu')(drop1)\n",
    "drop2 = Dropout(0.2)(hidden2)\n",
    "\n",
    "output = Dense(5, activation='softmax')(drop2)\n",
    "#output = Dense(1, activation='sigmoid')(flat)\n",
    "model = Model(inputs=visible, outputs=output)\n"
   ]
  },
  {
   "cell_type": "code",
   "execution_count": 10,
   "id": "ae821486",
   "metadata": {},
   "outputs": [
    {
     "name": "stdout",
     "output_type": "stream",
     "text": [
      "Model: \"model_1\"\n",
      "_________________________________________________________________\n",
      "Layer (type)                 Output Shape              Param #   \n",
      "=================================================================\n",
      "input_1 (InputLayer)         (None, 320, 320, 3)       0         \n",
      "_________________________________________________________________\n",
      "conv2d_1 (Conv2D)            (None, 315, 315, 64)      6976      \n",
      "_________________________________________________________________\n",
      "max_pooling2d_1 (MaxPooling2 (None, 157, 157, 64)      0         \n",
      "_________________________________________________________________\n",
      "conv2d_2 (Conv2D)            (None, 154, 154, 64)      65600     \n",
      "_________________________________________________________________\n",
      "max_pooling2d_2 (MaxPooling2 (None, 77, 77, 64)        0         \n",
      "_________________________________________________________________\n",
      "conv2d_3 (Conv2D)            (None, 74, 74, 128)       131200    \n",
      "_________________________________________________________________\n",
      "max_pooling2d_3 (MaxPooling2 (None, 37, 37, 128)       0         \n",
      "_________________________________________________________________\n",
      "conv2d_4 (Conv2D)            (None, 34, 34, 128)       262272    \n",
      "_________________________________________________________________\n",
      "conv2d_5 (Conv2D)            (None, 33, 33, 128)       65664     \n",
      "_________________________________________________________________\n",
      "flatten_1 (Flatten)          (None, 139392)            0         \n",
      "_________________________________________________________________\n",
      "dense_1 (Dense)              (None, 64)                8921152   \n",
      "_________________________________________________________________\n",
      "dropout_1 (Dropout)          (None, 64)                0         \n",
      "_________________________________________________________________\n",
      "dense_2 (Dense)              (None, 32)                2080      \n",
      "_________________________________________________________________\n",
      "dropout_2 (Dropout)          (None, 32)                0         \n",
      "_________________________________________________________________\n",
      "dense_3 (Dense)              (None, 5)                 165       \n",
      "=================================================================\n",
      "Total params: 9,455,109\n",
      "Trainable params: 9,455,109\n",
      "Non-trainable params: 0\n",
      "_________________________________________________________________\n"
     ]
    }
   ],
   "source": [
    "model.summary()"
   ]
  },
  {
   "cell_type": "code",
   "execution_count": 11,
   "id": "c2da7734",
   "metadata": {},
   "outputs": [],
   "source": [
    "optimizer = optimizers.Adam(lr=LEARNING_RATE)\n",
    "model.compile(optimizer=optimizer, loss=\"categorical_crossentropy\",  metrics=['accuracy'])"
   ]
  },
  {
   "cell_type": "code",
   "execution_count": 12,
   "id": "9f032249",
   "metadata": {},
   "outputs": [
    {
     "name": "stdout",
     "output_type": "stream",
     "text": [
      "WARNING:tensorflow:From C:\\Users\\Zakaria\\.conda\\envs\\Tensor\\lib\\site-packages\\tensorflow\\python\\ops\\math_grad.py:1250: add_dispatch_support.<locals>.wrapper (from tensorflow.python.ops.array_ops) is deprecated and will be removed in a future version.\n",
      "Instructions for updating:\n",
      "Use tf.where in 2.0, which has the same broadcast rule as np.where\n",
      "WARNING:tensorflow:From C:\\Users\\Zakaria\\.conda\\envs\\Tensor\\lib\\site-packages\\keras\\backend\\tensorflow_backend.py:422: The name tf.global_variables is deprecated. Please use tf.compat.v1.global_variables instead.\n",
      "\n",
      "Epoch 1/50\n",
      "366/366 [==============================] - 1079s 3s/step - loss: 2.2779 - accuracy: 0.4536 - val_loss: 2.4350 - val_accuracy: 0.5075\n",
      "Epoch 2/50\n",
      "366/366 [==============================] - 1076s 3s/step - loss: 1.6066 - accuracy: 0.4646 - val_loss: 2.6802 - val_accuracy: 0.5075\n",
      "Epoch 3/50\n",
      "366/366 [==============================] - 1072s 3s/step - loss: 1.4863 - accuracy: 0.4670 - val_loss: 3.2570 - val_accuracy: 0.5075\n",
      "Epoch 4/50\n",
      "366/366 [==============================] - 1062s 3s/step - loss: 1.4239 - accuracy: 0.4831 - val_loss: 2.6522 - val_accuracy: 0.5075\n",
      "Epoch 5/50\n",
      "366/366 [==============================] - 1058s 3s/step - loss: 1.3673 - accuracy: 0.4861 - val_loss: 3.1052 - val_accuracy: 0.5075\n",
      "Epoch 6/50\n",
      "366/366 [==============================] - 1057s 3s/step - loss: 1.2865 - accuracy: 0.4937 - val_loss: 2.4916 - val_accuracy: 0.5075\n",
      "Epoch 7/50\n",
      "366/366 [==============================] - 1057s 3s/step - loss: 1.2302 - accuracy: 0.5005 - val_loss: 2.0991 - val_accuracy: 0.5089\n",
      "Epoch 8/50\n",
      "366/366 [==============================] - 1058s 3s/step - loss: 1.2011 - accuracy: 0.5125 - val_loss: 1.8055 - val_accuracy: 0.5430\n",
      "Epoch 9/50\n",
      "366/366 [==============================] - 1055s 3s/step - loss: 1.1526 - accuracy: 0.5464 - val_loss: 2.4320 - val_accuracy: 0.6207\n",
      "Epoch 10/50\n",
      "366/366 [==============================] - 1059s 3s/step - loss: 1.1375 - accuracy: 0.5662 - val_loss: 1.8348 - val_accuracy: 0.5716\n",
      "Epoch 11/50\n",
      "366/366 [==============================] - 1060s 3s/step - loss: 1.0980 - accuracy: 0.5988 - val_loss: 1.8973 - val_accuracy: 0.6480\n",
      "Epoch 12/50\n",
      "366/366 [==============================] - 1055s 3s/step - loss: 1.0571 - accuracy: 0.6323 - val_loss: 1.9754 - val_accuracy: 0.6303\n",
      "Epoch 13/50\n",
      "366/366 [==============================] - 1057s 3s/step - loss: 1.0183 - accuracy: 0.6457 - val_loss: 2.4186 - val_accuracy: 0.6671\n",
      "Epoch 14/50\n",
      "366/366 [==============================] - 1055s 3s/step - loss: 1.0101 - accuracy: 0.6491 - val_loss: 2.5984 - val_accuracy: 0.6930\n",
      "Epoch 15/50\n",
      "366/366 [==============================] - 1053s 3s/step - loss: 0.9927 - accuracy: 0.6666 - val_loss: 2.1596 - val_accuracy: 0.6808\n",
      "Epoch 16/50\n",
      "366/366 [==============================] - 1052s 3s/step - loss: 0.9719 - accuracy: 0.6652 - val_loss: 2.1554 - val_accuracy: 0.7067\n",
      "Epoch 17/50\n",
      "366/366 [==============================] - 1056s 3s/step - loss: 0.9578 - accuracy: 0.6761 - val_loss: 2.1472 - val_accuracy: 0.7121\n",
      "Epoch 18/50\n",
      "366/366 [==============================] - 1052s 3s/step - loss: 0.9314 - accuracy: 0.6855 - val_loss: 2.2164 - val_accuracy: 0.6999\n",
      "Epoch 19/50\n",
      "366/366 [==============================] - 1049s 3s/step - loss: 0.9354 - accuracy: 0.6760 - val_loss: 2.2021 - val_accuracy: 0.7053\n",
      "Epoch 20/50\n",
      "366/366 [==============================] - 1055s 3s/step - loss: 0.9118 - accuracy: 0.6816 - val_loss: 2.2511 - val_accuracy: 0.6999\n",
      "Epoch 21/50\n",
      "366/366 [==============================] - 1053s 3s/step - loss: 0.8989 - accuracy: 0.6946 - val_loss: 2.8428 - val_accuracy: 0.7121\n",
      "Epoch 22/50\n",
      "366/366 [==============================] - 1054s 3s/step - loss: 0.8961 - accuracy: 0.6919 - val_loss: 2.5614 - val_accuracy: 0.7190\n",
      "Epoch 23/50\n",
      "366/366 [==============================] - 1057s 3s/step - loss: 0.8735 - accuracy: 0.6977 - val_loss: 2.5301 - val_accuracy: 0.7149\n",
      "Epoch 24/50\n",
      "366/366 [==============================] - 1062s 3s/step - loss: 0.8681 - accuracy: 0.6967 - val_loss: 2.8805 - val_accuracy: 0.7231\n",
      "Epoch 25/50\n",
      "366/366 [==============================] - 1076s 3s/step - loss: 0.8743 - accuracy: 0.6936 - val_loss: 2.1531 - val_accuracy: 0.7108\n",
      "Epoch 26/50\n",
      "366/366 [==============================] - 1054s 3s/step - loss: 0.8648 - accuracy: 0.6980 - val_loss: 2.1154 - val_accuracy: 0.7217\n",
      "Epoch 27/50\n",
      "366/366 [==============================] - 1054s 3s/step - loss: 0.8575 - accuracy: 0.6987 - val_loss: 2.1421 - val_accuracy: 0.7190\n",
      "Epoch 28/50\n",
      "366/366 [==============================] - 1052s 3s/step - loss: 0.8385 - accuracy: 0.6994 - val_loss: 2.8286 - val_accuracy: 0.7203\n",
      "Epoch 29/50\n",
      "366/366 [==============================] - 1060s 3s/step - loss: 0.8442 - accuracy: 0.7032 - val_loss: 1.8493 - val_accuracy: 0.6930\n",
      "Epoch 30/50\n",
      "366/366 [==============================] - 1057s 3s/step - loss: 0.8428 - accuracy: 0.7025 - val_loss: 1.9774 - val_accuracy: 0.7244\n",
      "Epoch 31/50\n",
      "366/366 [==============================] - 1056s 3s/step - loss: 0.8298 - accuracy: 0.7069 - val_loss: 1.8974 - val_accuracy: 0.7149\n",
      "Epoch 32/50\n",
      "366/366 [==============================] - 1060s 3s/step - loss: 0.8278 - accuracy: 0.7022 - val_loss: 2.2109 - val_accuracy: 0.7258\n",
      "Epoch 33/50\n",
      "366/366 [==============================] - 1060s 3s/step - loss: 0.8057 - accuracy: 0.7169 - val_loss: 2.0478 - val_accuracy: 0.7080\n",
      "Epoch 34/50\n",
      "366/366 [==============================] - 1053s 3s/step - loss: 0.8003 - accuracy: 0.7107 - val_loss: 2.2696 - val_accuracy: 0.7080\n",
      "Epoch 35/50\n",
      "366/366 [==============================] - 1055s 3s/step - loss: 0.7955 - accuracy: 0.7117 - val_loss: 2.0959 - val_accuracy: 0.7190\n",
      "Epoch 36/50\n",
      "366/366 [==============================] - 1054s 3s/step - loss: 0.7941 - accuracy: 0.7189 - val_loss: 1.9696 - val_accuracy: 0.7135\n",
      "Epoch 37/50\n",
      "366/366 [==============================] - 1057s 3s/step - loss: 0.7744 - accuracy: 0.7217 - val_loss: 2.3290 - val_accuracy: 0.7258\n",
      "Epoch 38/50\n",
      "366/366 [==============================] - 1060s 3s/step - loss: 0.8273 - accuracy: 0.7056 - val_loss: 2.0814 - val_accuracy: 0.7258\n",
      "Epoch 39/50\n",
      "366/366 [==============================] - 1059s 3s/step - loss: 0.7665 - accuracy: 0.7203 - val_loss: 2.1820 - val_accuracy: 0.7231\n",
      "Epoch 40/50\n",
      "366/366 [==============================] - 1060s 3s/step - loss: 0.7717 - accuracy: 0.7182 - val_loss: 2.2769 - val_accuracy: 0.7299\n",
      "Epoch 41/50\n",
      "366/366 [==============================] - 1057s 3s/step - loss: 0.7803 - accuracy: 0.7083 - val_loss: 1.9158 - val_accuracy: 0.7203\n",
      "Epoch 42/50\n",
      "366/366 [==============================] - 1057s 3s/step - loss: 0.7544 - accuracy: 0.7200 - val_loss: 2.3833 - val_accuracy: 0.7258\n",
      "Epoch 43/50\n",
      "366/366 [==============================] - 1372s 4s/step - loss: 0.7726 - accuracy: 0.7213 - val_loss: 2.1832 - val_accuracy: 0.7271\n",
      "Epoch 44/50\n",
      "366/366 [==============================] - 1950s 5s/step - loss: 0.7375 - accuracy: 0.7230 - val_loss: 1.9805 - val_accuracy: 0.7244\n",
      "Epoch 45/50\n",
      "366/366 [==============================] - 1947s 5s/step - loss: 0.7226 - accuracy: 0.7244 - val_loss: 2.0866 - val_accuracy: 0.7326\n",
      "Epoch 46/50\n",
      "366/366 [==============================] - 1673s 5s/step - loss: 0.7490 - accuracy: 0.7213 - val_loss: 2.0399 - val_accuracy: 0.7285\n",
      "Epoch 47/50\n",
      "366/366 [==============================] - 1101s 3s/step - loss: 0.7263 - accuracy: 0.7230 - val_loss: 2.4688 - val_accuracy: 0.7258\n",
      "Epoch 48/50\n",
      "366/366 [==============================] - 1177s 3s/step - loss: 0.7201 - accuracy: 0.7275 - val_loss: 1.8672 - val_accuracy: 0.7312\n",
      "Epoch 49/50\n",
      "366/366 [==============================] - 1072s 3s/step - loss: 0.7185 - accuracy: 0.7186 - val_loss: 2.5659 - val_accuracy: 0.7367\n",
      "Epoch 50/50\n",
      "366/366 [==============================] - 1064s 3s/step - loss: 0.6966 - accuracy: 0.7381 - val_loss: 2.1725 - val_accuracy: 0.7353\n"
     ]
    }
   ],
   "source": [
    "m1 = model.fit_generator(generator=train_generator,\n",
    "                                          steps_per_epoch=STEP_SIZE_TRAIN,\n",
    "                                          validation_data=test_generator,\n",
    "                                          validation_steps=STEP_SIZE_TEST,\n",
    "                                          epochs=EPOCHS,\n",
    "                                          verbose=1).history"
   ]
  },
  {
   "cell_type": "code",
   "execution_count": 13,
   "id": "f2daf058",
   "metadata": {},
   "outputs": [
    {
     "data": {
      "image/png": "[encoded data removed]",
      "text/plain": [
       "<Figure size 576x360 with 1 Axes>"
      ]
     },
     "metadata": {
      "needs_background": "light"
     },
     "output_type": "display_data"
    }
   ],
   "source": [
    "plt.figure(figsize=(8,5))\n",
    "\n",
    "plt.plot(m1['accuracy'])\n",
    "plt.plot(m1['val_accuracy'])\n",
    "plt.title('Model Accuracy')\n",
    "plt.ylabel('Accuracy')\n",
    "plt.xlabel('Epoch')\n",
    "plt.legend(['Train', 'Test'], loc='upper left')\n",
    "plt.gca().ticklabel_format(axis='both', style='plain', useOffset=False)\n",
    "plt.show()"
   ]
  },
  {
   "cell_type": "code",
   "execution_count": 14,
   "id": "ae5ffd1e",
   "metadata": {},
   "outputs": [
    {
     "data": {
      "image/png": "[encoded data removed]",
      "text/plain": [
       "<Figure size 576x360 with 1 Axes>"
      ]
     },
     "metadata": {
      "needs_background": "light"
     },
     "output_type": "display_data"
    }
   ],
   "source": [
    "plt.figure(figsize=(8,5))\n",
    "\n",
    "plt.plot(m1['loss'])\n",
    "plt.plot(m1['val_loss'])\n",
    "plt.title('Model Loss')\n",
    "plt.ylabel('Accuracy')\n",
    "plt.xlabel('Epoch')\n",
    "plt.legend(['Train', 'Test'], loc='upper left')\n",
    "plt.gca().ticklabel_format(axis='both', style='plain', useOffset=False)\n",
    "plt.show()"
   ]
  },
  {
   "cell_type": "code",
   "execution_count": 15,
   "id": "a3c1a31a",
   "metadata": {},
   "outputs": [
    {
     "name": "stdout",
     "output_type": "stream",
     "text": [
      "Found 2929 validated image filenames.\n",
      "2929/2929 [==============================] - 276s 94ms/step\n"
     ]
    }
   ],
   "source": [
    "complete_datagen = ImageDataGenerator(rescale=1./255)\n",
    "complete_generator = complete_datagen.flow_from_dataframe(dataframe=df_train_train,\n",
    "                                                          directory = \"./train_images_resized_preprocessed/\",\n",
    "                                                          x_col=\"file_name\",\n",
    "                                                          target_size=(HEIGHT, WIDTH),\n",
    "                                                          batch_size=1,\n",
    "                                                          shuffle=False,\n",
    "                                                          class_mode=None)\n",
    "\n",
    "STEP_SIZE_COMPLETE = complete_generator.n//complete_generator.batch_size\n",
    "train_preds = model.predict_generator(complete_generator, steps=STEP_SIZE_COMPLETE,verbose = 1)\n",
    "train_preds = [np.argmax(pred) for pred in train_preds]"
   ]
  },
  {
   "cell_type": "code",
   "execution_count": 16,
   "id": "e3946fc7",
   "metadata": {},
   "outputs": [
    {
     "name": "stdout",
     "output_type": "stream",
     "text": [
      "Train Accuracy score : 0.741\n"
     ]
    }
   ],
   "source": [
    "print(\"Train Accuracy score : %.3f\" % accuracy_score(df_train_train['diagnosis'].astype('int'),train_preds))"
   ]
  },
  {
   "cell_type": "code",
   "execution_count": 17,
   "id": "c7e8203e",
   "metadata": {},
   "outputs": [
    {
     "name": "stdout",
     "output_type": "stream",
     "text": [
      "733/733 [==============================] - 68s 93ms/step\n"
     ]
    }
   ],
   "source": [
    "test_generator.reset()\n",
    "STEP_SIZE_TEST = test_generator.n//test_generator.batch_size\n",
    "test_preds = model.predict_generator(test_generator, steps=STEP_SIZE_TEST,verbose = 1)\n",
    "test_labels = [np.argmax(pred) for pred in test_preds]"
   ]
  },
  {
   "cell_type": "code",
   "execution_count": 18,
   "id": "5348aabb",
   "metadata": {},
   "outputs": [
    {
     "name": "stdout",
     "output_type": "stream",
     "text": [
      "Test Accuracy score : 0.735\n"
     ]
    }
   ],
   "source": [
    "print(\"Test Accuracy score : %.3f\" % accuracy_score(df_train_test['diagnosis'].astype('int'),test_labels))"
   ]
  },
  {
   "cell_type": "code",
   "execution_count": 8,
   "id": "45e86fe1",
   "metadata": {},
   "outputs": [],
   "source": [
    "def plot_conf_matrix(true,pred,classes):\n",
    "    cf = confusion_matrix(true, pred)\n",
    "    \n",
    "    df_cm = pd.DataFrame(cf, range(len(classes)), range(len(classes)))\n",
    "    plt.figure(figsize=(8,5.5))\n",
    "    sns.set(font_scale=1.4)\n",
    "    sns.heatmap(df_cm, annot=True, annot_kws={\"size\": 16},xticklabels = classes ,yticklabels = classes,fmt='g')\n",
    "    #sns.heatmap(df_cm, annot=True, annot_kws={\"size\": 16})\n",
    "    plt.show()"
   ]
  },
  {
   "cell_type": "code",
   "execution_count": 9,
   "id": "e72ba7bb",
   "metadata": {},
   "outputs": [
    {
     "ename": "NameError",
     "evalue": "name 'test_labels' is not defined",
     "output_type": "error",
     "traceback": [
      "\u001b[1;31m---------------------------------------------------------------------------\u001b[0m",
      "\u001b[1;31mNameError\u001b[0m                                 Traceback (most recent call last)",
      "\u001b[1;32m<ipython-input-9-ec93e6a014f6>\u001b[0m in \u001b[0;36m<module>\u001b[1;34m\u001b[0m\n\u001b[0;32m      1\u001b[0m \u001b[0mlabels\u001b[0m \u001b[1;33m=\u001b[0m \u001b[1;33m[\u001b[0m\u001b[1;34m'0 - No DR'\u001b[0m\u001b[1;33m,\u001b[0m \u001b[1;34m'1 - Mild'\u001b[0m\u001b[1;33m,\u001b[0m \u001b[1;34m'2 - Moderate'\u001b[0m\u001b[1;33m,\u001b[0m \u001b[1;34m'3 - Severe'\u001b[0m\u001b[1;33m,\u001b[0m \u001b[1;34m'4 - Proliferative DR'\u001b[0m\u001b[1;33m]\u001b[0m\u001b[1;33m\u001b[0m\u001b[1;33m\u001b[0m\u001b[0m\n\u001b[1;32m----> 2\u001b[1;33m \u001b[0mplot_conf_matrix\u001b[0m\u001b[1;33m(\u001b[0m\u001b[0mlist\u001b[0m\u001b[1;33m(\u001b[0m\u001b[0mdf_train_test\u001b[0m\u001b[1;33m[\u001b[0m\u001b[1;34m'diagnosis'\u001b[0m\u001b[1;33m]\u001b[0m\u001b[1;33m.\u001b[0m\u001b[0mastype\u001b[0m\u001b[1;33m(\u001b[0m\u001b[0mint\u001b[0m\u001b[1;33m)\u001b[0m\u001b[1;33m)\u001b[0m\u001b[1;33m,\u001b[0m\u001b[0mtest_labels\u001b[0m\u001b[1;33m,\u001b[0m\u001b[0mlabels\u001b[0m\u001b[1;33m)\u001b[0m\u001b[1;33m\u001b[0m\u001b[1;33m\u001b[0m\u001b[0m\n\u001b[0m",
      "\u001b[1;31mNameError\u001b[0m: name 'test_labels' is not defined"
     ]
    }
   ],
   "source": [
    "labels = ['0 - No DR', '1 - Mild', '2 - Moderate', '3 - Severe', '4 - Proliferative DR']\n",
    "plot_conf_matrix(list(df_train_test['diagnosis'].astype(int)),test_labels,labels)"
   ]
  },
  {
   "cell_type": "code",
   "execution_count": null,
   "id": "47b4fe00",
   "metadata": {},
   "outputs": [],
   "source": []
  }
 ],
 "metadata": {
  "kernelspec": {
   "display_name": "Python 3",
   "language": "python",
   "name": "python3"
  },
  "language_info": {
   "codemirror_mode": {
    "name": "ipython",
    "version": 3
   },
   "file_extension": ".py",
   "mimetype": "text/x-python",
   "name": "python",
   "nbconvert_exporter": "python",
   "pygments_lexer": "ipython3",
   "version": "3.7.10"
  }
 },
 "nbformat": 4,
 "nbformat_minor": 5
}
